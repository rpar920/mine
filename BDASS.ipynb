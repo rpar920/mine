{
 "cells": [
  {
   "cell_type": "code",
   "execution_count": 1,
   "id": "29633acf",
   "metadata": {},
   "outputs": [],
   "source": [
    "# Check the schema and data types\n",
    "from pyspark.sql import SparkSession\n",
    "from pyspark.sql.functions import col\n",
    "from pyspark.ml.feature import VectorAssembler, StringIndexer\n",
    "from pyspark.ml.classification import NaiveBayes, LinearSVC, LogisticRegression\n",
    "from pyspark.ml.evaluation import MulticlassClassificationEvaluator\n",
    "from pyspark.ml.regression import LinearRegression\n",
    "from pyspark.sql.types import IntegerType, DoubleType"
   ]
  },
  {
   "cell_type": "code",
   "execution_count": 2,
   "id": "7c2d7ec7",
   "metadata": {},
   "outputs": [
    {
     "name": "stderr",
     "output_type": "stream",
     "text": [
      "WARNING: An illegal reflective access operation has occurred\n",
      "WARNING: Illegal reflective access by org.apache.spark.unsafe.Platform (file:/home/ubuntu/.local/lib/python3.10/site-packages/pyspark/jars/spark-unsafe_2.12-3.2.1.jar) to constructor java.nio.DirectByteBuffer(long,int)\n",
      "WARNING: Please consider reporting this to the maintainers of org.apache.spark.unsafe.Platform\n",
      "WARNING: Use --illegal-access=warn to enable warnings of further illegal reflective access operations\n",
      "WARNING: All illegal access operations will be denied in a future release\n",
      "Using Spark's default log4j profile: org/apache/spark/log4j-defaults.properties\n",
      "Setting default log level to \"WARN\".\n",
      "To adjust logging level use sc.setLogLevel(newLevel). For SparkR, use setLogLevel(newLevel).\n",
      "24/05/24 02:14:44 WARN NativeCodeLoader: Unable to load native-hadoop library for your platform... using builtin-java classes where applicable\n",
      "24/05/24 02:14:45 WARN Utils: Service 'SparkUI' could not bind on port 4040. Attempting port 4041.\n"
     ]
    }
   ],
   "source": [
    "\n",
    "# Initialize Spark session\n",
    "spark = SparkSession.builder.appName('WaterPotability.1').getOrCreate()"
   ]
  },
  {
   "cell_type": "code",
   "execution_count": 12,
   "id": "f3c66a6e",
   "metadata": {},
   "outputs": [],
   "source": [
    "# Load the dataset\n",
    "df = spark.read.csv(\"water_potability.1.csv\", inferSchema=True)\n"
   ]
  },
  {
   "cell_type": "code",
   "execution_count": 13,
   "id": "350c8c87",
   "metadata": {},
   "outputs": [
    {
     "name": "stdout",
     "output_type": "stream",
     "text": [
      "+-----+--------+--------+-----------+-------+------------+--------------+---------------+---------+----------+\n",
      "|  _c0|     _c1|     _c2|        _c3|    _c4|         _c5|           _c6|            _c7|      _c8|       _c9|\n",
      "+-----+--------+--------+-----------+-------+------------+--------------+---------------+---------+----------+\n",
      "|   ph|Hardness|  Solids|Chloramines|Sulfate|Conductivity|Organic_carbon|Trihalomethanes|Turbidity|Potability|\n",
      "| null|  204.89|20791.32|       7.30| 368.52|      564.31|         10.38|          86.99|     2.96|      0.00|\n",
      "| 3.72|  129.42|18630.06|       6.64|   null|      592.89|         15.18|          56.33|     4.50|      0.00|\n",
      "| 8.10|  224.24|19909.54|       9.28|   null|      418.61|         16.87|          66.42|     3.06|      0.00|\n",
      "| 8.32|  214.37|22018.42|       8.06| 356.89|      363.27|         18.44|         100.34|     4.63|      0.00|\n",
      "| 9.09|  181.10|17978.99|       6.55| 310.14|      398.41|         11.56|          32.00|     4.08|      0.00|\n",
      "| 5.58|  188.31|28748.69|       7.54| 326.68|      280.47|          8.40|          54.92|     2.56|      0.00|\n",
      "|10.22|  248.07|28749.72|       7.51| 393.66|      283.65|         13.79|          84.60|     2.67|      0.00|\n",
      "| 8.64|  203.36|13672.09|       4.56| 303.31|      474.61|         12.36|          62.80|     4.40|      0.00|\n",
      "| null|  118.99|14285.58|       7.80| 268.65|      389.38|         12.71|          53.93|     3.60|      0.00|\n",
      "|11.18|  227.23|25484.51|       9.08| 404.04|      563.89|         17.93|          71.98|     4.37|      0.00|\n",
      "| 7.36|  165.52|32452.61|       7.55| 326.62|      425.38|         15.59|          78.74|     3.66|      0.00|\n",
      "| 7.97|  218.69|18767.66|       8.11|   null|      364.10|         14.53|          76.49|     4.01|      0.00|\n",
      "| 7.12|  156.70|18730.81|       3.61| 282.34|      347.72|         15.93|          79.50|     3.45|      0.00|\n",
      "| null|  150.17|27331.36|       6.84| 299.42|      379.76|         19.37|          76.51|     4.41|      0.00|\n",
      "| 7.50|  205.34|28388.00|       5.07|   null|      444.65|         13.23|          70.30|     4.78|      0.00|\n",
      "| 6.35|  186.73|41065.23|       9.63| 364.49|      516.74|         11.54|          75.07|     4.38|      0.00|\n",
      "| 7.05|  211.05|30980.60|      10.09|   null|      315.14|         20.40|          56.65|     4.27|      0.00|\n",
      "| 9.18|  273.81|24041.33|       6.90| 398.35|      477.97|         13.39|          71.46|     4.50|      0.00|\n",
      "| 8.98|  279.36|19460.40|       6.20|   null|      431.44|         12.89|          63.82|     2.44|      0.00|\n",
      "+-----+--------+--------+-----------+-------+------------+--------------+---------------+---------+----------+\n",
      "only showing top 20 rows\n",
      "\n"
     ]
    }
   ],
   "source": [
    "# Show the first few rows of the dataset\n",
    "df.show()"
   ]
  },
  {
   "cell_type": "code",
   "execution_count": 14,
   "id": "2c391681",
   "metadata": {},
   "outputs": [
    {
     "name": "stdout",
     "output_type": "stream",
     "text": [
      "root\n",
      " |-- _c0: string (nullable = true)\n",
      " |-- _c1: string (nullable = true)\n",
      " |-- _c2: string (nullable = true)\n",
      " |-- _c3: string (nullable = true)\n",
      " |-- _c4: string (nullable = true)\n",
      " |-- _c5: string (nullable = true)\n",
      " |-- _c6: string (nullable = true)\n",
      " |-- _c7: string (nullable = true)\n",
      " |-- _c8: string (nullable = true)\n",
      " |-- _c9: string (nullable = true)\n",
      "\n"
     ]
    }
   ],
   "source": [
    "\n",
    "# Check the schema and data types\n",
    "df.printSchema()\n"
   ]
  },
  {
   "cell_type": "code",
   "execution_count": 15,
   "id": "cd9e31b4",
   "metadata": {},
   "outputs": [],
   "source": [
    "# Convert necessary columns to appropriate types if not already\n",
    "df = df.withColumn(\"_c0\", col(\"_c0\").cast(DoubleType())) \\\n",
    "       .withColumn(\"_c1\", col(\"_c1\").cast(DoubleType())) \\\n",
    "       .withColumn(\"_c2\", col(\"_c2\").cast(DoubleType())) \\\n",
    "       .withColumn(\"_c3\", col(\"_c3\").cast(DoubleType())) \\\n",
    "       .withColumn(\"_c4\", col(\"_c4\").cast(DoubleType())) \\\n",
    "       .withColumn(\"_c5\", col(\"_c5\").cast(DoubleType())) \\\n",
    "       .withColumn(\"_c6\", col(\"_c6\").cast(DoubleType())) \\\n",
    "       .withColumn(\"_c7\", col(\"_c7\").cast(DoubleType())) \\\n",
    "       .withColumn(\"_c8\", col(\"_c8\").cast(DoubleType())) \\\n",
    "       .withColumn(\"_c9\", col(\"_c9\").cast(IntegerType()))"
   ]
  },
  {
   "cell_type": "code",
   "execution_count": 16,
   "id": "7a2cdb96",
   "metadata": {},
   "outputs": [
    {
     "ename": "TypeError",
     "evalue": "'Column' object is not callable",
     "output_type": "error",
     "traceback": [
      "\u001b[0;31m---------------------------------------------------------------------------\u001b[0m",
      "\u001b[0;31mTypeError\u001b[0m                                 Traceback (most recent call last)",
      "Input \u001b[0;32mIn [16]\u001b[0m, in \u001b[0;36m<cell line: 2>\u001b[0;34m()\u001b[0m\n\u001b[1;32m      1\u001b[0m \u001b[38;5;66;03m# Check for null values\u001b[39;00m\n\u001b[0;32m----> 2\u001b[0m df\u001b[38;5;241m.\u001b[39mselect([col(c)\u001b[38;5;241m.\u001b[39misNull()\u001b[38;5;241m.\u001b[39msum()\u001b[38;5;241m.\u001b[39malias(c) \u001b[38;5;28;01mfor\u001b[39;00m c \u001b[38;5;129;01min\u001b[39;00m df\u001b[38;5;241m.\u001b[39mcolumns])\u001b[38;5;241m.\u001b[39mshow()\n",
      "Input \u001b[0;32mIn [16]\u001b[0m, in \u001b[0;36m<listcomp>\u001b[0;34m(.0)\u001b[0m\n\u001b[1;32m      1\u001b[0m \u001b[38;5;66;03m# Check for null values\u001b[39;00m\n\u001b[0;32m----> 2\u001b[0m df\u001b[38;5;241m.\u001b[39mselect([\u001b[43mcol\u001b[49m\u001b[43m(\u001b[49m\u001b[43mc\u001b[49m\u001b[43m)\u001b[49m\u001b[38;5;241;43m.\u001b[39;49m\u001b[43misNull\u001b[49m\u001b[43m(\u001b[49m\u001b[43m)\u001b[49m\u001b[38;5;241;43m.\u001b[39;49m\u001b[43msum\u001b[49m\u001b[43m(\u001b[49m\u001b[43m)\u001b[49m\u001b[38;5;241m.\u001b[39malias(c) \u001b[38;5;28;01mfor\u001b[39;00m c \u001b[38;5;129;01min\u001b[39;00m df\u001b[38;5;241m.\u001b[39mcolumns])\u001b[38;5;241m.\u001b[39mshow()\n",
      "\u001b[0;31mTypeError\u001b[0m: 'Column' object is not callable"
     ]
    }
   ],
   "source": [
    "# Check for null values\n",
    "df.select([col(c).isNull().sum().alias(c) for c in df.columns]).show()"
   ]
  },
  {
   "cell_type": "code",
   "execution_count": 17,
   "id": "609ef358",
   "metadata": {},
   "outputs": [],
   "source": [
    "# Drop rows with null values for simplicity\n",
    "df = df.dropna()\n"
   ]
  },
  {
   "cell_type": "code",
   "execution_count": 18,
   "id": "8abcfc92",
   "metadata": {},
   "outputs": [
    {
     "name": "stdout",
     "output_type": "stream",
     "text": [
      "+-------+------------------+------------------+-----------------+------------------+-----------------+------------------+------------------+-----------------+------------------+------------------+\n",
      "|summary|               _c0|               _c1|              _c2|               _c3|              _c4|               _c5|               _c6|              _c7|               _c8|               _c9|\n",
      "+-------+------------------+------------------+-----------------+------------------+-----------------+------------------+------------------+-----------------+------------------+------------------+\n",
      "|  count|              2011|              2011|             2011|              2011|             2011|              2011|              2011|             2011|              2011|              2011|\n",
      "|   mean| 7.085987231196917|195.96806168241199|21917.44136749442| 7.134323658626552|333.2246789207866|426.52641016971626|14.357713743315271|66.40084781388023| 3.969715391888609|0.4032819492789657|\n",
      "| stddev|1.5733216060617146| 32.63508101173157|8642.239805076324|1.5848180937841874|41.20517762258326| 80.71257346939743| 3.324968598911824|16.07711115411736|0.7803415071515483|0.4906784515883226|\n",
      "|    min|        0.22749905|       73.49223369|      320.9426113|       1.390870905|            129.0|       201.6197368|               2.2|      8.577012933|              1.45|                 0|\n",
      "|    max|              14.0|       317.3381241|      56488.67241|            13.127|      481.0306423|       753.3426196|       27.00670661|            124.0|       6.494748556|                 1|\n",
      "+-------+------------------+------------------+-----------------+------------------+-----------------+------------------+------------------+-----------------+------------------+------------------+\n",
      "\n"
     ]
    }
   ],
   "source": [
    "\n",
    "# Describe the data\n",
    "df.describe().show()"
   ]
  },
  {
   "cell_type": "code",
   "execution_count": 19,
   "id": "faa709f9",
   "metadata": {},
   "outputs": [],
   "source": [
    "# Calculate correlation matrix\n",
    "correlation_matrix = df.select([col for col in df.columns if col != '_c9']).toPandas().corr()"
   ]
  },
  {
   "cell_type": "code",
   "execution_count": 20,
   "id": "ae908e2d",
   "metadata": {},
   "outputs": [],
   "source": [
    "\n",
    "# Visualize correlations using seaborn and matplotlib\n",
    "import seaborn as sns\n",
    "import matplotlib.pyplot as plt"
   ]
  },
  {
   "cell_type": "code",
   "execution_count": 21,
   "id": "697f6906",
   "metadata": {},
   "outputs": [
    {
     "data": {
      "image/png": "[encoded data removed]",
      "text/plain": [
       "<Figure size 720x576 with 2 Axes>"
      ]
     },
     "metadata": {
      "needs_background": "light"
     },
     "output_type": "display_data"
    }
   ],
   "source": [
    "\n",
    "plt.figure(figsize=(10, 8))\n",
    "sns.heatmap(correlation_matrix, annot=True, cmap='coolwarm', fmt='.2f')\n",
    "plt.title('Correlation Matrix')\n",
    "plt.show()\n",
    "\n"
   ]
  },
  {
   "cell_type": "code",
   "execution_count": 1,
   "id": "61571e84",
   "metadata": {},
   "outputs": [],
   "source": [
    "import seaborn as sns\n",
    "import numpy as np\n",
    "import matplotlib.pyplot as plt\n",
    "%matplotlib inline"
   ]
  },
  {
   "cell_type": "code",
   "execution_count": 2,
   "id": "b55eb67e",
   "metadata": {},
   "outputs": [
    {
     "ename": "NameError",
     "evalue": "name 'df' is not defined",
     "output_type": "error",
     "traceback": [
      "\u001b[0;31m---------------------------------------------------------------------------\u001b[0m",
      "\u001b[0;31mNameError\u001b[0m                                 Traceback (most recent call last)",
      "Input \u001b[0;32mIn [2]\u001b[0m, in \u001b[0;36m<cell line: 3>\u001b[0;34m()\u001b[0m\n\u001b[1;32m      1\u001b[0m \u001b[38;5;66;03m#Addtiional EDA and Visualization\u001b[39;00m\n\u001b[1;32m      2\u001b[0m \u001b[38;5;66;03m# Use seaborn and matplotlib for visualization\u001b[39;00m\n\u001b[0;32m----> 3\u001b[0m sns\u001b[38;5;241m.\u001b[39mhistplot(\u001b[43mdf\u001b[49m\u001b[38;5;241m.\u001b[39mtoPandas()[\u001b[38;5;124m'\u001b[39m\u001b[38;5;124mChloramines\u001b[39m\u001b[38;5;124m'\u001b[39m], kde\u001b[38;5;241m=\u001b[39m\u001b[38;5;28;01mTrue\u001b[39;00m)\n\u001b[1;32m      4\u001b[0m plt\u001b[38;5;241m.\u001b[39mtitle(\u001b[38;5;124m'\u001b[39m\u001b[38;5;124mDistribution of Chloramines\u001b[39m\u001b[38;5;124m'\u001b[39m)\n\u001b[1;32m      5\u001b[0m plt\u001b[38;5;241m.\u001b[39mshow()\n",
      "\u001b[0;31mNameError\u001b[0m: name 'df' is not defined"
     ]
    }
   ],
   "source": [
    "#Addtiional EDA and Visualization\n",
    "# Use seaborn and matplotlib for visualization\n",
    "sns.histplot(df.toPandas()['Chloramines'], kde=True)\n",
    "plt.title('Distribution of Chloramines')\n",
    "plt.show()\n",
    "\n"
   ]
  },
  {
   "cell_type": "code",
   "execution_count": 26,
   "id": "166fa4d7",
   "metadata": {},
   "outputs": [],
   "source": [
    "\n",
    "#Prepare for Machine Learning \n",
    "\n",
    "# Assemble features\n",
    "feature_columns = [col for col in df.columns if col != '_c9']\n",
    "assembler = VectorAssembler(inputCols=feature_columns, outputCol='features')\n",
    "df = assembler.transform(df)"
   ]
  },
  {
   "cell_type": "code",
   "execution_count": 24,
   "id": "8bc13668",
   "metadata": {},
   "outputs": [
    {
     "ename": "AnalysisException",
     "evalue": "cannot resolve 'features' given input columns: [_c0, _c1, _c2, _c3, _c4, _c5, _c6, _c7, _c8, _c9];\n'Project ['features, _c9#1335]\n+- Filter atleastnnonnulls(10, _c0#1236, _c1#1247, _c2#1258, _c3#1269, _c4#1280, _c5#1291, _c6#1302, _c7#1313, _c8#1324, _c9#1335)\n   +- Project [_c0#1236, _c1#1247, _c2#1258, _c3#1269, _c4#1280, _c5#1291, _c6#1302, _c7#1313, _c8#1324, cast(_c9#1174 as int) AS _c9#1335]\n      +- Project [_c0#1236, _c1#1247, _c2#1258, _c3#1269, _c4#1280, _c5#1291, _c6#1302, _c7#1313, cast(_c8#1173 as double) AS _c8#1324, _c9#1174]\n         +- Project [_c0#1236, _c1#1247, _c2#1258, _c3#1269, _c4#1280, _c5#1291, _c6#1302, cast(_c7#1172 as double) AS _c7#1313, _c8#1173, _c9#1174]\n            +- Project [_c0#1236, _c1#1247, _c2#1258, _c3#1269, _c4#1280, _c5#1291, cast(_c6#1171 as double) AS _c6#1302, _c7#1172, _c8#1173, _c9#1174]\n               +- Project [_c0#1236, _c1#1247, _c2#1258, _c3#1269, _c4#1280, cast(_c5#1170 as double) AS _c5#1291, _c6#1171, _c7#1172, _c8#1173, _c9#1174]\n                  +- Project [_c0#1236, _c1#1247, _c2#1258, _c3#1269, cast(_c4#1169 as double) AS _c4#1280, _c5#1170, _c6#1171, _c7#1172, _c8#1173, _c9#1174]\n                     +- Project [_c0#1236, _c1#1247, _c2#1258, cast(_c3#1168 as double) AS _c3#1269, _c4#1169, _c5#1170, _c6#1171, _c7#1172, _c8#1173, _c9#1174]\n                        +- Project [_c0#1236, _c1#1247, cast(_c2#1167 as double) AS _c2#1258, _c3#1168, _c4#1169, _c5#1170, _c6#1171, _c7#1172, _c8#1173, _c9#1174]\n                           +- Project [_c0#1236, cast(_c1#1166 as double) AS _c1#1247, _c2#1167, _c3#1168, _c4#1169, _c5#1170, _c6#1171, _c7#1172, _c8#1173, _c9#1174]\n                              +- Project [cast(_c0#1165 as double) AS _c0#1236, _c1#1166, _c2#1167, _c3#1168, _c4#1169, _c5#1170, _c6#1171, _c7#1172, _c8#1173, _c9#1174]\n                                 +- Relation [_c0#1165,_c1#1166,_c2#1167,_c3#1168,_c4#1169,_c5#1170,_c6#1171,_c7#1172,_c8#1173,_c9#1174] csv\n",
     "output_type": "error",
     "traceback": [
      "\u001b[0;31m---------------------------------------------------------------------------\u001b[0m",
      "\u001b[0;31mAnalysisException\u001b[0m                         Traceback (most recent call last)",
      "Input \u001b[0;32mIn [24]\u001b[0m, in \u001b[0;36m<cell line: 2>\u001b[0;34m()\u001b[0m\n\u001b[1;32m      1\u001b[0m \u001b[38;5;66;03m# Select features and target variable\u001b[39;00m\n\u001b[0;32m----> 2\u001b[0m data \u001b[38;5;241m=\u001b[39m \u001b[43mdf\u001b[49m\u001b[38;5;241;43m.\u001b[39;49m\u001b[43mselect\u001b[49m\u001b[43m(\u001b[49m\u001b[38;5;124;43m'\u001b[39;49m\u001b[38;5;124;43mfeatures\u001b[39;49m\u001b[38;5;124;43m'\u001b[39;49m\u001b[43m,\u001b[49m\u001b[43m \u001b[49m\u001b[38;5;124;43m'\u001b[39;49m\u001b[38;5;124;43m_c9\u001b[39;49m\u001b[38;5;124;43m'\u001b[39;49m\u001b[43m)\u001b[49m\n",
      "File \u001b[0;32m~/.local/lib/python3.10/site-packages/pyspark/sql/dataframe.py:1685\u001b[0m, in \u001b[0;36mDataFrame.select\u001b[0;34m(self, *cols)\u001b[0m\n\u001b[1;32m   1664\u001b[0m \u001b[38;5;28;01mdef\u001b[39;00m \u001b[38;5;21mselect\u001b[39m(\u001b[38;5;28mself\u001b[39m, \u001b[38;5;241m*\u001b[39mcols):\n\u001b[1;32m   1665\u001b[0m     \u001b[38;5;124;03m\"\"\"Projects a set of expressions and returns a new :class:`DataFrame`.\u001b[39;00m\n\u001b[1;32m   1666\u001b[0m \n\u001b[1;32m   1667\u001b[0m \u001b[38;5;124;03m    .. versionadded:: 1.3.0\u001b[39;00m\n\u001b[0;32m   (...)\u001b[0m\n\u001b[1;32m   1683\u001b[0m \u001b[38;5;124;03m    [Row(name='Alice', age=12), Row(name='Bob', age=15)]\u001b[39;00m\n\u001b[1;32m   1684\u001b[0m \u001b[38;5;124;03m    \"\"\"\u001b[39;00m\n\u001b[0;32m-> 1685\u001b[0m     jdf \u001b[38;5;241m=\u001b[39m \u001b[38;5;28;43mself\u001b[39;49m\u001b[38;5;241;43m.\u001b[39;49m\u001b[43m_jdf\u001b[49m\u001b[38;5;241;43m.\u001b[39;49m\u001b[43mselect\u001b[49m\u001b[43m(\u001b[49m\u001b[38;5;28;43mself\u001b[39;49m\u001b[38;5;241;43m.\u001b[39;49m\u001b[43m_jcols\u001b[49m\u001b[43m(\u001b[49m\u001b[38;5;241;43m*\u001b[39;49m\u001b[43mcols\u001b[49m\u001b[43m)\u001b[49m\u001b[43m)\u001b[49m\n\u001b[1;32m   1686\u001b[0m     \u001b[38;5;28;01mreturn\u001b[39;00m DataFrame(jdf, \u001b[38;5;28mself\u001b[39m\u001b[38;5;241m.\u001b[39msql_ctx)\n",
      "File \u001b[0;32m~/.local/lib/python3.10/site-packages/py4j/java_gateway.py:1321\u001b[0m, in \u001b[0;36mJavaMember.__call__\u001b[0;34m(self, *args)\u001b[0m\n\u001b[1;32m   1315\u001b[0m command \u001b[38;5;241m=\u001b[39m proto\u001b[38;5;241m.\u001b[39mCALL_COMMAND_NAME \u001b[38;5;241m+\u001b[39m\\\n\u001b[1;32m   1316\u001b[0m     \u001b[38;5;28mself\u001b[39m\u001b[38;5;241m.\u001b[39mcommand_header \u001b[38;5;241m+\u001b[39m\\\n\u001b[1;32m   1317\u001b[0m     args_command \u001b[38;5;241m+\u001b[39m\\\n\u001b[1;32m   1318\u001b[0m     proto\u001b[38;5;241m.\u001b[39mEND_COMMAND_PART\n\u001b[1;32m   1320\u001b[0m answer \u001b[38;5;241m=\u001b[39m \u001b[38;5;28mself\u001b[39m\u001b[38;5;241m.\u001b[39mgateway_client\u001b[38;5;241m.\u001b[39msend_command(command)\n\u001b[0;32m-> 1321\u001b[0m return_value \u001b[38;5;241m=\u001b[39m \u001b[43mget_return_value\u001b[49m\u001b[43m(\u001b[49m\n\u001b[1;32m   1322\u001b[0m \u001b[43m    \u001b[49m\u001b[43manswer\u001b[49m\u001b[43m,\u001b[49m\u001b[43m \u001b[49m\u001b[38;5;28;43mself\u001b[39;49m\u001b[38;5;241;43m.\u001b[39;49m\u001b[43mgateway_client\u001b[49m\u001b[43m,\u001b[49m\u001b[43m \u001b[49m\u001b[38;5;28;43mself\u001b[39;49m\u001b[38;5;241;43m.\u001b[39;49m\u001b[43mtarget_id\u001b[49m\u001b[43m,\u001b[49m\u001b[43m \u001b[49m\u001b[38;5;28;43mself\u001b[39;49m\u001b[38;5;241;43m.\u001b[39;49m\u001b[43mname\u001b[49m\u001b[43m)\u001b[49m\n\u001b[1;32m   1324\u001b[0m \u001b[38;5;28;01mfor\u001b[39;00m temp_arg \u001b[38;5;129;01min\u001b[39;00m temp_args:\n\u001b[1;32m   1325\u001b[0m     temp_arg\u001b[38;5;241m.\u001b[39m_detach()\n",
      "File \u001b[0;32m~/.local/lib/python3.10/site-packages/pyspark/sql/utils.py:117\u001b[0m, in \u001b[0;36mcapture_sql_exception.<locals>.deco\u001b[0;34m(*a, **kw)\u001b[0m\n\u001b[1;32m    113\u001b[0m converted \u001b[38;5;241m=\u001b[39m convert_exception(e\u001b[38;5;241m.\u001b[39mjava_exception)\n\u001b[1;32m    114\u001b[0m \u001b[38;5;28;01mif\u001b[39;00m \u001b[38;5;129;01mnot\u001b[39;00m \u001b[38;5;28misinstance\u001b[39m(converted, UnknownException):\n\u001b[1;32m    115\u001b[0m     \u001b[38;5;66;03m# Hide where the exception came from that shows a non-Pythonic\u001b[39;00m\n\u001b[1;32m    116\u001b[0m     \u001b[38;5;66;03m# JVM exception message.\u001b[39;00m\n\u001b[0;32m--> 117\u001b[0m     \u001b[38;5;28;01mraise\u001b[39;00m converted \u001b[38;5;28;01mfrom\u001b[39;00m \u001b[38;5;28mNone\u001b[39m\n\u001b[1;32m    118\u001b[0m \u001b[38;5;28;01melse\u001b[39;00m:\n\u001b[1;32m    119\u001b[0m     \u001b[38;5;28;01mraise\u001b[39;00m\n",
      "\u001b[0;31mAnalysisException\u001b[0m: cannot resolve 'features' given input columns: [_c0, _c1, _c2, _c3, _c4, _c5, _c6, _c7, _c8, _c9];\n'Project ['features, _c9#1335]\n+- Filter atleastnnonnulls(10, _c0#1236, _c1#1247, _c2#1258, _c3#1269, _c4#1280, _c5#1291, _c6#1302, _c7#1313, _c8#1324, _c9#1335)\n   +- Project [_c0#1236, _c1#1247, _c2#1258, _c3#1269, _c4#1280, _c5#1291, _c6#1302, _c7#1313, _c8#1324, cast(_c9#1174 as int) AS _c9#1335]\n      +- Project [_c0#1236, _c1#1247, _c2#1258, _c3#1269, _c4#1280, _c5#1291, _c6#1302, _c7#1313, cast(_c8#1173 as double) AS _c8#1324, _c9#1174]\n         +- Project [_c0#1236, _c1#1247, _c2#1258, _c3#1269, _c4#1280, _c5#1291, _c6#1302, cast(_c7#1172 as double) AS _c7#1313, _c8#1173, _c9#1174]\n            +- Project [_c0#1236, _c1#1247, _c2#1258, _c3#1269, _c4#1280, _c5#1291, cast(_c6#1171 as double) AS _c6#1302, _c7#1172, _c8#1173, _c9#1174]\n               +- Project [_c0#1236, _c1#1247, _c2#1258, _c3#1269, _c4#1280, cast(_c5#1170 as double) AS _c5#1291, _c6#1171, _c7#1172, _c8#1173, _c9#1174]\n                  +- Project [_c0#1236, _c1#1247, _c2#1258, _c3#1269, cast(_c4#1169 as double) AS _c4#1280, _c5#1170, _c6#1171, _c7#1172, _c8#1173, _c9#1174]\n                     +- Project [_c0#1236, _c1#1247, _c2#1258, cast(_c3#1168 as double) AS _c3#1269, _c4#1169, _c5#1170, _c6#1171, _c7#1172, _c8#1173, _c9#1174]\n                        +- Project [_c0#1236, _c1#1247, cast(_c2#1167 as double) AS _c2#1258, _c3#1168, _c4#1169, _c5#1170, _c6#1171, _c7#1172, _c8#1173, _c9#1174]\n                           +- Project [_c0#1236, cast(_c1#1166 as double) AS _c1#1247, _c2#1167, _c3#1168, _c4#1169, _c5#1170, _c6#1171, _c7#1172, _c8#1173, _c9#1174]\n                              +- Project [cast(_c0#1165 as double) AS _c0#1236, _c1#1166, _c2#1167, _c3#1168, _c4#1169, _c5#1170, _c6#1171, _c7#1172, _c8#1173, _c9#1174]\n                                 +- Relation [_c0#1165,_c1#1166,_c2#1167,_c3#1168,_c4#1169,_c5#1170,_c6#1171,_c7#1172,_c8#1173,_c9#1174] csv\n"
     ]
    }
   ],
   "source": [
    "# Select features and target variable\n",
    "data = df.select('features', '_c9')\n"
   ]
  },
  {
   "cell_type": "code",
   "execution_count": 25,
   "id": "1043d9a8",
   "metadata": {},
   "outputs": [
    {
     "ename": "NameError",
     "evalue": "name 'data' is not defined",
     "output_type": "error",
     "traceback": [
      "\u001b[0;31m---------------------------------------------------------------------------\u001b[0m",
      "\u001b[0;31mNameError\u001b[0m                                 Traceback (most recent call last)",
      "Input \u001b[0;32mIn [25]\u001b[0m, in \u001b[0;36m<cell line: 2>\u001b[0;34m()\u001b[0m\n\u001b[1;32m      1\u001b[0m \u001b[38;5;66;03m#Split the data into training and testing sets\u001b[39;00m\n\u001b[0;32m----> 2\u001b[0m train_data, test_data \u001b[38;5;241m=\u001b[39m \u001b[43mdata\u001b[49m\u001b[38;5;241m.\u001b[39mrandomSplit([\u001b[38;5;241m0.8\u001b[39m, \u001b[38;5;241m0.2\u001b[39m], seed\u001b[38;5;241m=\u001b[39m\u001b[38;5;241m42\u001b[39m)\n",
      "\u001b[0;31mNameError\u001b[0m: name 'data' is not defined"
     ]
    }
   ],
   "source": [
    " #Split the data into training and testing sets\n",
    "train_data, test_data = data.randomSplit([0.8, 0.2], seed=42)"
   ]
  },
  {
   "cell_type": "code",
   "execution_count": null,
   "id": "90804765",
   "metadata": {},
   "outputs": [],
   "source": [
    "#Model training with Naive Bayes\n",
    "# Initialize Naive Bayes model\n",
    "nb = NaiveBayes(featuresCol='features', labelCol='_c9')"
   ]
  },
  {
   "cell_type": "code",
   "execution_count": null,
   "id": "0a88e774",
   "metadata": {},
   "outputs": [],
   "source": [
    "# Train the model\n",
    "nb_model = nb.fit(train_data)\n"
   ]
  },
  {
   "cell_type": "code",
   "execution_count": null,
   "id": "3fe0d122",
   "metadata": {},
   "outputs": [],
   "source": [
    "# Make predictions\n",
    "nb_predictions = nb_model.transform(test_data)\n"
   ]
  },
  {
   "cell_type": "code",
   "execution_count": null,
   "id": "7b78459c",
   "metadata": {},
   "outputs": [],
   "source": [
    "# Evaluate the model\n",
    "evaluator = MulticlassClassificationEvaluator(labelCol=\"_c9\", predictionCol=\"prediction\", metricName=\"accuracy\")\n",
    "nb_accuracy = evaluator.evaluate(nb_predictions)\n",
    "print(f'Naive Bayes Model Accuracy: {nb_accuracy}')\n"
   ]
  },
  {
   "cell_type": "code",
   "execution_count": null,
   "id": "51d83449",
   "metadata": {},
   "outputs": [],
   "source": [
    "\n",
    "\n",
    "#Model training with SVM\n",
    " # Initialize SVM model\n",
    "svm = LinearSVC(featuresCol='features', labelCol='_c9')"
   ]
  },
  {
   "cell_type": "code",
   "execution_count": null,
   "id": "306ba3bd",
   "metadata": {},
   "outputs": [],
   "source": [
    "# Train the model\n",
    "svm_model = svm.fit(train_data)\n",
    "\n",
    "# Make predictions\n",
    "svm_predictions = svm_model.transform(test_data)\n"
   ]
  },
  {
   "cell_type": "code",
   "execution_count": null,
   "id": "c79eaa3f",
   "metadata": {},
   "outputs": [],
   "source": [
    "# Evaluate the model\n",
    "svm_accuracy = evaluator.evaluate(svm_predictions)\n",
    "print(f'SVM Model Accuracy: {svm_accuracy}')\n",
    "\n"
   ]
  },
  {
   "cell_type": "code",
   "execution_count": null,
   "id": "e2f88999",
   "metadata": {},
   "outputs": [],
   "source": [
    "# Must be included at the beginning of each new notebook. Remember to change the app name.\n",
    "import findspark\n",
    "findspark.init('/home/ubuntu/spark-3.2.1-bin-hadoop2.7')\n",
    "import pyspark\n",
    "from pyspark.sql import SparkSession\n",
    "spark = SparkSession.builder.appName('tree_methods_doc').getOrCreate()\n",
    "\n",
    "from pyspark.ml import Pipeline\n",
    "from pyspark.ml.classification import (RandomForestClassifier, GBTClassifier, DecisionTreeClassifier)\n",
    "from pyspark.ml.evaluation import MulticlassClassificationEvaluator"
   ]
  },
  {
   "cell_type": "code",
   "execution_count": null,
   "id": "c5b560f0",
   "metadata": {},
   "outputs": [],
   "source": [
    "# Load and parse the data file, converting it to a DataFrame.\n",
    "data = spark.read.csv(\"water_potability.1.csv\")"
   ]
  },
  {
   "cell_type": "code",
   "execution_count": null,
   "id": "07260ea4",
   "metadata": {},
   "outputs": [],
   "source": [
    "# Let's get a better look at the data.\n",
    "data.show()\n",
    "\n",
    "data.printSchema()"
   ]
  },
  {
   "cell_type": "code",
   "execution_count": null,
   "id": "54009428",
   "metadata": {},
   "outputs": [],
   "source": [
    "# Split the data into training and test sets (30% held out for testing).\n",
    "(trainingData, testData) = data.randomSplit([0.7, 0.3])"
   ]
  },
  {
   "cell_type": "code",
   "execution_count": null,
   "id": "08a880ad",
   "metadata": {},
   "outputs": [],
   "source": [
    "# Create all three models. Note the number of trees. \n",
    "# The more trees you have, the more computation time. But this could also significantly increase accuracy. So there's a tradeoff. \n",
    "dt = DecisionTreeClassifier()\n",
    "\n"
   ]
  },
  {
   "cell_type": "code",
   "execution_count": null,
   "id": "417bbb2c",
   "metadata": {},
   "outputs": [],
   "source": [
    "model_dt = dt.fit(trainingData)"
   ]
  },
  {
   "cell_type": "code",
   "execution_count": null,
   "id": "17aaa870",
   "metadata": {},
   "outputs": [],
   "source": [
    "\n",
    "#SPARK DATA FRAME - DATA CLEANING\n",
    "1-#CHANGING THE DATA TO NULL\n",
    "2=#DROP THE DATA POINT\n",
    "3-#FILL IN WITH A DIFF VALUE\n",
    "\n",
    "\n",
    "\n",
    "#Must be included at the beginning of each new notebook. Remember to change the app name.\n",
    "import findspark\n",
    "findspark.init('/home/ubuntu/spark-3.2.1-bin-hadoop2.7')\n",
    "import pyspark\n",
    "from pyspark.sql import SparkSession\n",
    "spark = SparkSession.builder.appName('missing').getOrCreate()"
   ]
  },
  {
   "cell_type": "code",
   "execution_count": null,
   "id": "5482a423",
   "metadata": {},
   "outputs": [],
   "source": [
    "df = spark.read.csv(\"water_potability.1.csv\", header=True, inferSchema=True)"
   ]
  },
  {
   "cell_type": "code",
   "execution_count": null,
   "id": "82eda8b5",
   "metadata": {},
   "outputs": [],
   "source": [
    "# Let's see the data. You'll notice nulls.\n",
    "df.show()"
   ]
  },
  {
   "cell_type": "code",
   "execution_count": null,
   "id": "f10a0ff5",
   "metadata": {},
   "outputs": [],
   "source": [
    "# Using this syntax, we can drop any row with missing data. Three rows are dropped.\n",
    "df.na.drop().show()"
   ]
  },
  {
   "cell_type": "code",
   "execution_count": null,
   "id": "c70b89bb",
   "metadata": {},
   "outputs": [],
   "source": [
    " #Requires a certain amount of non-null values. Row two was dropped, as there's only one non-null value.\n",
    "df.na.drop(thresh=2).show()"
   ]
  },
  {
   "cell_type": "code",
   "execution_count": null,
   "id": "e0993d7c",
   "metadata": {},
   "outputs": [],
   "source": [
    "# Drops a row if all values are missing. Zero rows are dropped. \n",
    "df.na.drop(how=\"all\").show()"
   ]
  },
  {
   "cell_type": "code",
   "execution_count": null,
   "id": "5b3894c9",
   "metadata": {},
   "outputs": [],
   "source": [
    "# Drops a row if a value from a particular row is missing. Two rows are dropped.\n",
    "df.na.drop(subset=\"ph\").show()"
   ]
  },
  {
   "cell_type": "code",
   "execution_count": null,
   "id": "4b6267c4",
   "metadata": {},
   "outputs": [],
   "source": [
    "# Drops a row if a value from a particular row is missing. Two rows are dropped.\n",
    "df.na.drop(subset=\"Sulfate\").show()"
   ]
  },
  {
   "cell_type": "code",
   "execution_count": null,
   "id": "c1ff4005",
   "metadata": {},
   "outputs": [],
   "source": [
    "# Instead of dropping the row, this fills null string types with FILL VALUE. \n",
    "df.na.fill(\"FILL VALUE\").show()\n",
    "\n",
    "# Spark will only apply numbers to number data types, and strings to string data types.\n",
    "df.na.fill(0).show()\n",
    "\n",
    "\n",
    "\n"
   ]
  },
  {
   "cell_type": "code",
   "execution_count": null,
   "id": "e79a5a4f",
   "metadata": {},
   "outputs": [],
   "source": [
    "# However, it's good practice to specify the row you want to fill using subset. \n",
    "df.na.fill('FILL NAME', subset=['ph','Sulfate']).show()"
   ]
  },
  {
   "cell_type": "code",
   "execution_count": null,
   "id": "2fb83fe1",
   "metadata": {},
   "outputs": [],
   "source": [
    "# Also, it's good practice to use your sales average to fill missing data. \n",
    "from pyspark.sql.functions import mean\n",
    "\n",
    "# Let's collect the average. You'll notice that the collection returns the average in an interesting format.\n",
    "mean_ph = df.select(mean(df['ph'])).collect()\n",
    "mean_ph"
   ]
  },
  {
   "cell_type": "code",
   "execution_count": null,
   "id": "e5524801",
   "metadata": {},
   "outputs": [],
   "source": [
    "# If we use the index, we should be able to access the actual value.\n",
    "mean_ph[0]"
   ]
  },
  {
   "cell_type": "code",
   "execution_count": null,
   "id": "1c9da7f8",
   "metadata": {},
   "outputs": [],
   "source": [
    "# Looks like we need to go one level deeper. Perfect! Let's assign that value to a variable.\n",
    "mean_ph[0][0]\n",
    "mean_ph_val = mean_ph[0][0]\n"
   ]
  },
  {
   "cell_type": "code",
   "execution_count": null,
   "id": "3442ff9a",
   "metadata": {},
   "outputs": [],
   "source": [
    "# And finally, fill the missing values with the mean.\n",
    "df.na.fill(mean_ph_val, subset=['ph']).show()"
   ]
  },
  {
   "cell_type": "code",
   "execution_count": null,
   "id": "d39f4a2c",
   "metadata": {},
   "outputs": [],
   "source": [
    " #Must be included at the beginning of each new notebook. Remember to change the app name.\n",
    "import findspark\n",
    "findspark.init('/home/ubuntu/spark-3.2.1-bin-hadoop2.7')\n",
    "import pyspark\n",
    "from pyspark.sql import SparkSession\n",
    "spark = SparkSession.builder.appName('operations').getOrCreate()"
   ]
  },
  {
   "cell_type": "code",
   "execution_count": null,
   "id": "4e930f48",
   "metadata": {},
   "outputs": [],
   "source": [
    "# Schemas can only be inferred for CSV files. \n",
    "df = spark.read.csv('water_potability.1.csv', inferSchema=True, header=True)\n",
    "df.printSchema()"
   ]
  },
  {
   "cell_type": "code",
   "execution_count": null,
   "id": "8592267b",
   "metadata": {},
   "outputs": [],
   "source": [
    "# Let's get a better look at the data.\n",
    "# We know that we can show a DataFrame, but that's resulted in a mess! \n",
    "df.show()"
   ]
  },
  {
   "cell_type": "code",
   "execution_count": null,
   "id": "e16a3570",
   "metadata": {},
   "outputs": [],
   "source": [
    "# Instead, let's just grab the first row. Much neater! \n",
    "df.head(1)"
   ]
  },
  {
   "cell_type": "code",
   "execution_count": 27,
   "id": "5ea114a9",
   "metadata": {},
   "outputs": [
    {
     "ename": "AnalysisException",
     "evalue": "cannot resolve 'Sulfate' given input columns: [_c0, _c1, _c2, _c3, _c4, _c5, _c6, _c7, _c8, _c9, features]; line 1 pos 0;\n'Filter ('Sulfate < 400)\n+- Project [_c0#1236, _c1#1247, _c2#1258, _c3#1269, _c4#1280, _c5#1291, _c6#1302, _c7#1313, _c8#1324, _c9#1335, UDF(struct(_c0, _c0#1236, _c1, _c1#1247, _c2, _c2#1258, _c3, _c3#1269, _c4, _c4#1280, _c5, _c5#1291, _c6, _c6#1302, _c7, _c7#1313, _c8, _c8#1324)) AS features#2309]\n   +- Filter atleastnnonnulls(10, _c0#1236, _c1#1247, _c2#1258, _c3#1269, _c4#1280, _c5#1291, _c6#1302, _c7#1313, _c8#1324, _c9#1335)\n      +- Project [_c0#1236, _c1#1247, _c2#1258, _c3#1269, _c4#1280, _c5#1291, _c6#1302, _c7#1313, _c8#1324, cast(_c9#1174 as int) AS _c9#1335]\n         +- Project [_c0#1236, _c1#1247, _c2#1258, _c3#1269, _c4#1280, _c5#1291, _c6#1302, _c7#1313, cast(_c8#1173 as double) AS _c8#1324, _c9#1174]\n            +- Project [_c0#1236, _c1#1247, _c2#1258, _c3#1269, _c4#1280, _c5#1291, _c6#1302, cast(_c7#1172 as double) AS _c7#1313, _c8#1173, _c9#1174]\n               +- Project [_c0#1236, _c1#1247, _c2#1258, _c3#1269, _c4#1280, _c5#1291, cast(_c6#1171 as double) AS _c6#1302, _c7#1172, _c8#1173, _c9#1174]\n                  +- Project [_c0#1236, _c1#1247, _c2#1258, _c3#1269, _c4#1280, cast(_c5#1170 as double) AS _c5#1291, _c6#1171, _c7#1172, _c8#1173, _c9#1174]\n                     +- Project [_c0#1236, _c1#1247, _c2#1258, _c3#1269, cast(_c4#1169 as double) AS _c4#1280, _c5#1170, _c6#1171, _c7#1172, _c8#1173, _c9#1174]\n                        +- Project [_c0#1236, _c1#1247, _c2#1258, cast(_c3#1168 as double) AS _c3#1269, _c4#1169, _c5#1170, _c6#1171, _c7#1172, _c8#1173, _c9#1174]\n                           +- Project [_c0#1236, _c1#1247, cast(_c2#1167 as double) AS _c2#1258, _c3#1168, _c4#1169, _c5#1170, _c6#1171, _c7#1172, _c8#1173, _c9#1174]\n                              +- Project [_c0#1236, cast(_c1#1166 as double) AS _c1#1247, _c2#1167, _c3#1168, _c4#1169, _c5#1170, _c6#1171, _c7#1172, _c8#1173, _c9#1174]\n                                 +- Project [cast(_c0#1165 as double) AS _c0#1236, _c1#1166, _c2#1167, _c3#1168, _c4#1169, _c5#1170, _c6#1171, _c7#1172, _c8#1173, _c9#1174]\n                                    +- Relation [_c0#1165,_c1#1166,_c2#1167,_c3#1168,_c4#1169,_c5#1170,_c6#1171,_c7#1172,_c8#1173,_c9#1174] csv\n",
     "output_type": "error",
     "traceback": [
      "\u001b[0;31m---------------------------------------------------------------------------\u001b[0m",
      "\u001b[0;31mAnalysisException\u001b[0m                         Traceback (most recent call last)",
      "Input \u001b[0;32mIn [27]\u001b[0m, in \u001b[0;36m<cell line: 4>\u001b[0;34m()\u001b[0m\n\u001b[1;32m      1\u001b[0m \u001b[38;5;66;03m#DATA FRAME METHODS\u001b[39;00m\n\u001b[1;32m      2\u001b[0m \u001b[38;5;66;03m# Even though we know SQL is available, let's try out some of the DataFrame methods.\u001b[39;00m\n\u001b[1;32m      3\u001b[0m \u001b[38;5;66;03m# For this example, let's have a look at the hardness and sulfate values where sulfate value is less that 400\u001b[39;00m\n\u001b[0;32m----> 4\u001b[0m \u001b[43mdf\u001b[49m\u001b[38;5;241;43m.\u001b[39;49m\u001b[43mfilter\u001b[49m\u001b[43m(\u001b[49m\u001b[38;5;124;43m\"\u001b[39;49m\u001b[38;5;124;43mSulfate < 400\u001b[39;49m\u001b[38;5;124;43m\"\u001b[39;49m\u001b[43m)\u001b[49m\u001b[38;5;241m.\u001b[39mselect(\u001b[38;5;124m'\u001b[39m\u001b[38;5;124mHardness\u001b[39m\u001b[38;5;124m'\u001b[39m,\u001b[38;5;124m'\u001b[39m\u001b[38;5;124mSulfate\u001b[39m\u001b[38;5;124m'\u001b[39m)\u001b[38;5;241m.\u001b[39mshow()\n",
      "File \u001b[0;32m~/.local/lib/python3.10/site-packages/pyspark/sql/dataframe.py:1731\u001b[0m, in \u001b[0;36mDataFrame.filter\u001b[0;34m(self, condition)\u001b[0m\n\u001b[1;32m   1706\u001b[0m \u001b[38;5;124;03m\"\"\"Filters rows using the given condition.\u001b[39;00m\n\u001b[1;32m   1707\u001b[0m \n\u001b[1;32m   1708\u001b[0m \u001b[38;5;124;03m:func:`where` is an alias for :func:`filter`.\u001b[39;00m\n\u001b[0;32m   (...)\u001b[0m\n\u001b[1;32m   1728\u001b[0m \u001b[38;5;124;03m[Row(age=2, name='Alice')]\u001b[39;00m\n\u001b[1;32m   1729\u001b[0m \u001b[38;5;124;03m\"\"\"\u001b[39;00m\n\u001b[1;32m   1730\u001b[0m \u001b[38;5;28;01mif\u001b[39;00m \u001b[38;5;28misinstance\u001b[39m(condition, \u001b[38;5;28mstr\u001b[39m):\n\u001b[0;32m-> 1731\u001b[0m     jdf \u001b[38;5;241m=\u001b[39m \u001b[38;5;28;43mself\u001b[39;49m\u001b[38;5;241;43m.\u001b[39;49m\u001b[43m_jdf\u001b[49m\u001b[38;5;241;43m.\u001b[39;49m\u001b[43mfilter\u001b[49m\u001b[43m(\u001b[49m\u001b[43mcondition\u001b[49m\u001b[43m)\u001b[49m\n\u001b[1;32m   1732\u001b[0m \u001b[38;5;28;01melif\u001b[39;00m \u001b[38;5;28misinstance\u001b[39m(condition, Column):\n\u001b[1;32m   1733\u001b[0m     jdf \u001b[38;5;241m=\u001b[39m \u001b[38;5;28mself\u001b[39m\u001b[38;5;241m.\u001b[39m_jdf\u001b[38;5;241m.\u001b[39mfilter(condition\u001b[38;5;241m.\u001b[39m_jc)\n",
      "File \u001b[0;32m~/.local/lib/python3.10/site-packages/py4j/java_gateway.py:1321\u001b[0m, in \u001b[0;36mJavaMember.__call__\u001b[0;34m(self, *args)\u001b[0m\n\u001b[1;32m   1315\u001b[0m command \u001b[38;5;241m=\u001b[39m proto\u001b[38;5;241m.\u001b[39mCALL_COMMAND_NAME \u001b[38;5;241m+\u001b[39m\\\n\u001b[1;32m   1316\u001b[0m     \u001b[38;5;28mself\u001b[39m\u001b[38;5;241m.\u001b[39mcommand_header \u001b[38;5;241m+\u001b[39m\\\n\u001b[1;32m   1317\u001b[0m     args_command \u001b[38;5;241m+\u001b[39m\\\n\u001b[1;32m   1318\u001b[0m     proto\u001b[38;5;241m.\u001b[39mEND_COMMAND_PART\n\u001b[1;32m   1320\u001b[0m answer \u001b[38;5;241m=\u001b[39m \u001b[38;5;28mself\u001b[39m\u001b[38;5;241m.\u001b[39mgateway_client\u001b[38;5;241m.\u001b[39msend_command(command)\n\u001b[0;32m-> 1321\u001b[0m return_value \u001b[38;5;241m=\u001b[39m \u001b[43mget_return_value\u001b[49m\u001b[43m(\u001b[49m\n\u001b[1;32m   1322\u001b[0m \u001b[43m    \u001b[49m\u001b[43manswer\u001b[49m\u001b[43m,\u001b[49m\u001b[43m \u001b[49m\u001b[38;5;28;43mself\u001b[39;49m\u001b[38;5;241;43m.\u001b[39;49m\u001b[43mgateway_client\u001b[49m\u001b[43m,\u001b[49m\u001b[43m \u001b[49m\u001b[38;5;28;43mself\u001b[39;49m\u001b[38;5;241;43m.\u001b[39;49m\u001b[43mtarget_id\u001b[49m\u001b[43m,\u001b[49m\u001b[43m \u001b[49m\u001b[38;5;28;43mself\u001b[39;49m\u001b[38;5;241;43m.\u001b[39;49m\u001b[43mname\u001b[49m\u001b[43m)\u001b[49m\n\u001b[1;32m   1324\u001b[0m \u001b[38;5;28;01mfor\u001b[39;00m temp_arg \u001b[38;5;129;01min\u001b[39;00m temp_args:\n\u001b[1;32m   1325\u001b[0m     temp_arg\u001b[38;5;241m.\u001b[39m_detach()\n",
      "File \u001b[0;32m~/.local/lib/python3.10/site-packages/pyspark/sql/utils.py:117\u001b[0m, in \u001b[0;36mcapture_sql_exception.<locals>.deco\u001b[0;34m(*a, **kw)\u001b[0m\n\u001b[1;32m    113\u001b[0m converted \u001b[38;5;241m=\u001b[39m convert_exception(e\u001b[38;5;241m.\u001b[39mjava_exception)\n\u001b[1;32m    114\u001b[0m \u001b[38;5;28;01mif\u001b[39;00m \u001b[38;5;129;01mnot\u001b[39;00m \u001b[38;5;28misinstance\u001b[39m(converted, UnknownException):\n\u001b[1;32m    115\u001b[0m     \u001b[38;5;66;03m# Hide where the exception came from that shows a non-Pythonic\u001b[39;00m\n\u001b[1;32m    116\u001b[0m     \u001b[38;5;66;03m# JVM exception message.\u001b[39;00m\n\u001b[0;32m--> 117\u001b[0m     \u001b[38;5;28;01mraise\u001b[39;00m converted \u001b[38;5;28;01mfrom\u001b[39;00m \u001b[38;5;28mNone\u001b[39m\n\u001b[1;32m    118\u001b[0m \u001b[38;5;28;01melse\u001b[39;00m:\n\u001b[1;32m    119\u001b[0m     \u001b[38;5;28;01mraise\u001b[39;00m\n",
      "\u001b[0;31mAnalysisException\u001b[0m: cannot resolve 'Sulfate' given input columns: [_c0, _c1, _c2, _c3, _c4, _c5, _c6, _c7, _c8, _c9, features]; line 1 pos 0;\n'Filter ('Sulfate < 400)\n+- Project [_c0#1236, _c1#1247, _c2#1258, _c3#1269, _c4#1280, _c5#1291, _c6#1302, _c7#1313, _c8#1324, _c9#1335, UDF(struct(_c0, _c0#1236, _c1, _c1#1247, _c2, _c2#1258, _c3, _c3#1269, _c4, _c4#1280, _c5, _c5#1291, _c6, _c6#1302, _c7, _c7#1313, _c8, _c8#1324)) AS features#2309]\n   +- Filter atleastnnonnulls(10, _c0#1236, _c1#1247, _c2#1258, _c3#1269, _c4#1280, _c5#1291, _c6#1302, _c7#1313, _c8#1324, _c9#1335)\n      +- Project [_c0#1236, _c1#1247, _c2#1258, _c3#1269, _c4#1280, _c5#1291, _c6#1302, _c7#1313, _c8#1324, cast(_c9#1174 as int) AS _c9#1335]\n         +- Project [_c0#1236, _c1#1247, _c2#1258, _c3#1269, _c4#1280, _c5#1291, _c6#1302, _c7#1313, cast(_c8#1173 as double) AS _c8#1324, _c9#1174]\n            +- Project [_c0#1236, _c1#1247, _c2#1258, _c3#1269, _c4#1280, _c5#1291, _c6#1302, cast(_c7#1172 as double) AS _c7#1313, _c8#1173, _c9#1174]\n               +- Project [_c0#1236, _c1#1247, _c2#1258, _c3#1269, _c4#1280, _c5#1291, cast(_c6#1171 as double) AS _c6#1302, _c7#1172, _c8#1173, _c9#1174]\n                  +- Project [_c0#1236, _c1#1247, _c2#1258, _c3#1269, _c4#1280, cast(_c5#1170 as double) AS _c5#1291, _c6#1171, _c7#1172, _c8#1173, _c9#1174]\n                     +- Project [_c0#1236, _c1#1247, _c2#1258, _c3#1269, cast(_c4#1169 as double) AS _c4#1280, _c5#1170, _c6#1171, _c7#1172, _c8#1173, _c9#1174]\n                        +- Project [_c0#1236, _c1#1247, _c2#1258, cast(_c3#1168 as double) AS _c3#1269, _c4#1169, _c5#1170, _c6#1171, _c7#1172, _c8#1173, _c9#1174]\n                           +- Project [_c0#1236, _c1#1247, cast(_c2#1167 as double) AS _c2#1258, _c3#1168, _c4#1169, _c5#1170, _c6#1171, _c7#1172, _c8#1173, _c9#1174]\n                              +- Project [_c0#1236, cast(_c1#1166 as double) AS _c1#1247, _c2#1167, _c3#1168, _c4#1169, _c5#1170, _c6#1171, _c7#1172, _c8#1173, _c9#1174]\n                                 +- Project [cast(_c0#1165 as double) AS _c0#1236, _c1#1166, _c2#1167, _c3#1168, _c4#1169, _c5#1170, _c6#1171, _c7#1172, _c8#1173, _c9#1174]\n                                    +- Relation [_c0#1165,_c1#1166,_c2#1167,_c3#1168,_c4#1169,_c5#1170,_c6#1171,_c7#1172,_c8#1173,_c9#1174] csv\n"
     ]
    }
   ],
   "source": [
    "#DATA FRAME METHODS\n",
    "# Even though we know SQL is available, let's try out some of the DataFrame methods.\n",
    "# For this example, let's have a look at the hardness and sulfate values where sulfate value is less that 400\n",
    "df.filter(\"Sulfate < 400\").select('Hardness','Sulfate').show()\n"
   ]
  },
  {
   "cell_type": "code",
   "execution_count": null,
   "id": "164e0262",
   "metadata": {},
   "outputs": [],
   "source": [
    "# We can also use Python within the DataFrame filter method!\n",
    "df.filter(df['Sulfate'] < 400).select('Hardness','Sulfate').show()"
   ]
  },
  {
   "cell_type": "code",
   "execution_count": null,
   "id": "5da7ba5e",
   "metadata": {},
   "outputs": [],
   "source": [
    " #And we can use multiple operations! \n",
    "# Here we're looking for significant increases in stock.\n",
    "df.filter( (df['Sulfate'] > 400) & (df['Hardness'] < 395) ).select('Hardness','Sulfate').show()"
   ]
  },
  {
   "cell_type": "code",
   "execution_count": null,
   "id": "b3b8ccd0",
   "metadata": {},
   "outputs": [],
   "source": [
    "#SPARK DATA FRAME AGGREGATION\n",
    "\n"
   ]
  },
  {
   "cell_type": "code",
   "execution_count": null,
   "id": "11d51b25",
   "metadata": {},
   "outputs": [],
   "source": [
    "# Must be included at the beginning of each new notebook. Remember to change the app name.\n",
    "import findspark\n",
    "findspark.init('/home/ubuntu/spark-3.2.1-bin-hadoop2.7')\n",
    "import pyspark\n",
    "from pyspark.sql import SparkSession\n",
    "spark = SparkSession.builder.appName('aggregation').getOrCreate()"
   ]
  },
  {
   "cell_type": "code",
   "execution_count": 28,
   "id": "85448fa6",
   "metadata": {},
   "outputs": [
    {
     "name": "stdout",
     "output_type": "stream",
     "text": [
      "+-----+--------+--------+-----------+-------+------------+--------------+---------------+---------+----------+\n",
      "|   ph|Hardness|  Solids|Chloramines|Sulfate|Conductivity|Organic_carbon|Trihalomethanes|Turbidity|Potability|\n",
      "+-----+--------+--------+-----------+-------+------------+--------------+---------------+---------+----------+\n",
      "| null|  204.89|20791.32|        7.3| 368.52|      564.31|         10.38|          86.99|     2.96|       0.0|\n",
      "| 3.72|  129.42|18630.06|       6.64|   null|      592.89|         15.18|          56.33|      4.5|       0.0|\n",
      "|  8.1|  224.24|19909.54|       9.28|   null|      418.61|         16.87|          66.42|     3.06|       0.0|\n",
      "| 8.32|  214.37|22018.42|       8.06| 356.89|      363.27|         18.44|         100.34|     4.63|       0.0|\n",
      "| 9.09|   181.1|17978.99|       6.55| 310.14|      398.41|         11.56|           32.0|     4.08|       0.0|\n",
      "| 5.58|  188.31|28748.69|       7.54| 326.68|      280.47|           8.4|          54.92|     2.56|       0.0|\n",
      "|10.22|  248.07|28749.72|       7.51| 393.66|      283.65|         13.79|           84.6|     2.67|       0.0|\n",
      "| 8.64|  203.36|13672.09|       4.56| 303.31|      474.61|         12.36|           62.8|      4.4|       0.0|\n",
      "| null|  118.99|14285.58|        7.8| 268.65|      389.38|         12.71|          53.93|      3.6|       0.0|\n",
      "|11.18|  227.23|25484.51|       9.08| 404.04|      563.89|         17.93|          71.98|     4.37|       0.0|\n",
      "| 7.36|  165.52|32452.61|       7.55| 326.62|      425.38|         15.59|          78.74|     3.66|       0.0|\n",
      "| 7.97|  218.69|18767.66|       8.11|   null|       364.1|         14.53|          76.49|     4.01|       0.0|\n",
      "| 7.12|   156.7|18730.81|       3.61| 282.34|      347.72|         15.93|           79.5|     3.45|       0.0|\n",
      "| null|  150.17|27331.36|       6.84| 299.42|      379.76|         19.37|          76.51|     4.41|       0.0|\n",
      "|  7.5|  205.34| 28388.0|       5.07|   null|      444.65|         13.23|           70.3|     4.78|       0.0|\n",
      "| 6.35|  186.73|41065.23|       9.63| 364.49|      516.74|         11.54|          75.07|     4.38|       0.0|\n",
      "| 7.05|  211.05| 30980.6|      10.09|   null|      315.14|          20.4|          56.65|     4.27|       0.0|\n",
      "| 9.18|  273.81|24041.33|        6.9| 398.35|      477.97|         13.39|          71.46|      4.5|       0.0|\n",
      "| 8.98|  279.36| 19460.4|        6.2|   null|      431.44|         12.89|          63.82|     2.44|       0.0|\n",
      "| 7.37|   214.5|25630.32|       4.43| 335.75|      469.91|         12.51|           62.8|     2.56|       0.0|\n",
      "+-----+--------+--------+-----------+-------+------------+--------------+---------------+---------+----------+\n",
      "only showing top 20 rows\n",
      "\n",
      "root\n",
      " |-- ph: double (nullable = true)\n",
      " |-- Hardness: double (nullable = true)\n",
      " |-- Solids: double (nullable = true)\n",
      " |-- Chloramines: double (nullable = true)\n",
      " |-- Sulfate: double (nullable = true)\n",
      " |-- Conductivity: double (nullable = true)\n",
      " |-- Organic_carbon: double (nullable = true)\n",
      " |-- Trihalomethanes: double (nullable = true)\n",
      " |-- Turbidity: double (nullable = true)\n",
      " |-- Potability: double (nullable = true)\n",
      "\n"
     ]
    }
   ],
   "source": [
    "# Reads schema and accepts that the data has a header.\n",
    "df = spark.read.csv('water_potability.1.csv', inferSchema=True, header=True)\n",
    "\n",
    "# Let's see the data.\n",
    "df.show()\n",
    "\n",
    "# And the data schema.\n",
    "df.printSchema()"
   ]
  },
  {
   "cell_type": "code",
   "execution_count": 29,
   "id": "61bb1a2e",
   "metadata": {},
   "outputs": [
    {
     "name": "stdout",
     "output_type": "stream",
     "text": [
      "+-----------+-----------+-------------+-----------+----------------+------------+-----------------+-------------------+--------------------+--------------+---------------+\n",
      "|         Ph|    avg(ph)|avg(Hardness)|avg(Solids)|avg(Chloramines)|avg(Sulfate)|avg(Conductivity)|avg(Organic_carbon)|avg(Trihalomethanes)|avg(Turbidity)|avg(Potability)|\n",
      "+-----------+-----------+-------------+-----------+----------------+------------+-----------------+-------------------+--------------------+--------------+---------------+\n",
      "|7.466213132|7.466213132|  223.1841808|18261.69494|     5.206596781|        null|      456.2621506|        14.02354722|         99.13033596|   2.081845657|            0.0|\n",
      "|5.527633483|5.527633483|  218.5189231|22095.63716|     6.436288161|        null|      412.8676105|        12.64013548|         44.32864139|    4.59113705|            0.0|\n",
      "|6.871607245|6.871607245|  197.5170934|19557.99372|     8.311348727| 355.0872579|      379.5077385|        18.24071162|         65.69423039|   4.180389312|            0.0|\n",
      "|5.803496976|5.803496976|  193.2009914| 19451.7676|     4.146601118| 255.9767456|       365.477618|        14.92061556|         8.577012933|   2.181714167|            1.0|\n",
      "|9.008464334|9.008464334|  148.6140018| 35021.7741|     5.594006548|        null|      387.3997714|        11.85510295|          49.4804408|   3.911014707|            1.0|\n",
      "|9.056244707|9.056244707|   197.666301|17403.53217|     7.688917072| 337.4601765|      414.7666308|        15.34986899|         63.69674587|   3.319353737|            0.0|\n",
      "|6.865125275|6.865125275|  216.7444577|13529.03876|      5.61849239| 402.3134271|      553.6167335|        15.69277076|         86.37808196|    3.95515371|            0.0|\n",
      "| 5.91580675| 5.91580675|  195.7440741|12431.80311|       6.6616162| 380.7253358|      367.8540248|        21.30064694|         90.39489472|   4.513200539|            0.0|\n",
      "|6.174750579|6.174750579|   138.513588|21504.13882|       10.860295| 338.7030157|      447.8054645|         14.2419652|          31.7059331|   2.566048788|            1.0|\n",
      "|8.277058198|8.277058198|  242.5592458|12715.81428|     5.128732541| 371.3027473|      561.7611561|        15.22002138|         61.79901424|   3.751324091|            1.0|\n",
      "|4.495357679|4.495357679|  234.1919163|14080.83371|      6.34068243| 296.3142196|      382.4080744|        17.35354458|         59.00434914|   4.962899585|            0.0|\n",
      "|5.608623152|5.608623152|   271.882219|43680.22252|     4.157335299| 366.8665331|      450.8960526|        16.44275314|         61.24976188|   3.777508267|            1.0|\n",
      "|6.626012184|6.626012184|  112.2994855| 25839.8941|     7.658746878| 312.2470431|      327.2480786|        19.40914656|         85.78510284|   4.194313129|            0.0|\n",
      "|8.892998479|8.892998479|   224.078183|22960.18064|     8.982036449| 274.6894585|      466.2454797|        9.693048967|         59.57721177|   3.619132805|            1.0|\n",
      "|3.623165848|3.623165848|  156.8989167|26738.52536|     5.023142591| 388.7522531|      388.7526203|         17.1960121|         63.56487022|   5.370205549|            1.0|\n",
      "|7.966856824|7.966856824|   186.353361|21440.73885|     7.832473708| 393.7670457|      461.3562275|        13.91386963|         86.12181104|   5.115430914|            1.0|\n",
      "|7.421997644|7.421997644|  220.3853144|15772.65317|     9.157615312| 319.9129388|      463.2969139|        16.98166011|         80.26935417|   3.603609581|            0.0|\n",
      "|5.484151254|5.484151254|  196.7912512|19378.35907|     5.003730632| 295.5910188|      348.3990333|        18.71387553|         76.41415276|    4.43885846|            1.0|\n",
      "|6.565633547|6.565633547|  159.7293627|19044.68007|     6.693213781| 283.5146718|      393.6251725|        18.20713697|          67.0541187|   2.770948497|            0.0|\n",
      "|5.918953546|5.918953546|  154.7735165|9712.560664|     5.326271917|        null|      386.2180718|        16.57930072|         65.88233542|   4.265547139|            0.0|\n",
      "+-----------+-----------+-------------+-----------+----------------+------------+-----------------+-------------------+--------------------+--------------+---------------+\n",
      "only showing top 20 rows\n",
      "\n",
      "+-----------+-----------+-------------+-----------+----------------+------------+-----------------+-------------------+--------------------+--------------+---------------+\n",
      "|    Sulfate|    avg(ph)|avg(Hardness)|avg(Solids)|avg(Chloramines)|avg(Sulfate)|avg(Conductivity)|avg(Organic_carbon)|avg(Trihalomethanes)|avg(Turbidity)|avg(Potability)|\n",
      "+-----------+-----------+-------------+-----------+----------------+------------+-----------------+-------------------+--------------------+--------------+---------------+\n",
      "|376.9379723|7.316804754|   217.522862|31903.39981|     9.865047503| 376.9379723|      425.9134002|        8.992754272|         69.50921982|    3.50837265|            0.0|\n",
      "|362.4895603|8.410460643|  234.8765244|27554.34526|     5.681716197| 362.4895603|      519.0316251|        14.48221298|         55.62849905|   2.977359946|            0.0|\n",
      "|392.8331604|       null|  259.1449277|2808.025756|      10.0870624| 392.8331604|      354.4052785|        13.89895042|         63.85767375|   4.081328787|            1.0|\n",
      "|327.2391088|7.958871446|  184.8285571|26845.66101|     7.673719025| 327.2391088|      389.2642157|        11.03286717|         52.51051952|   4.007902613|            1.0|\n",
      "|314.9868005|5.174345998|  234.3285691|11746.60752|     6.961265386| 314.9868005|      407.1023017|        13.77167997|         36.18353587|   3.689144992|            0.0|\n",
      "|332.8237989|7.744772552|  208.9203404|27648.15965|      5.62257229| 332.8237989|      397.0574736|        12.48619176|         73.18455681|   5.016321199|            0.0|\n",
      "|319.3820023|9.864727092|  278.0814463|12978.19713|     6.908571954| 319.3820023|      486.6379375|        14.35134051|         84.79879219|   3.701895298|            0.0|\n",
      "|350.1080935|7.455541163|  225.3141509|16242.06028|      8.20410214| 350.1080935|      331.6738244|        13.11496542|         60.16214813|   2.930364596|            0.0|\n",
      "|342.7208077|9.338235018|  248.3760156|17416.80178|     6.665873261| 342.7208077|      505.6774089|        19.74281527|         58.65852985|   1.872572601|            0.0|\n",
      "|313.3647974|5.810742057|  151.8761719|25419.55166|     7.874166461| 313.3647974|      494.1529743|        14.64668497|         77.37381255|   3.436966862|            1.0|\n",
      "| 328.503515|6.283103588|  236.8232145|26188.16217|     9.364361168|  328.503515|      470.8215689|         16.3519115|         68.91033739|   2.663920734|            1.0|\n",
      "| 360.508237| 6.71477688|  185.9093028|34558.40267|     6.554857685|  360.508237|      303.9682027|        10.22647041|         50.21401089|    4.68485347|            1.0|\n",
      "|433.9522119|       null|   252.670469|29368.67418|     9.906146627| 433.9522119|      465.2166206|        13.22103363|         84.19860653|   5.052736766|            0.0|\n",
      "|363.6848143|7.757269666|  213.0484451|25259.78055|     7.635152992| 363.6848143|      543.5287986|        15.25402122|          107.189584|   4.165432286|            1.0|\n",
      "|329.1439121|4.775983439|  196.2739637|19185.79188|     4.942929901| 329.1439121|      459.0835568|        13.37094975|         84.58424964|   4.382161619|            0.0|\n",
      "|356.3048253|8.457901037|  228.7321522| 16061.5901|     4.142485399| 356.3048253|      370.7121076|        14.06171029|         82.36469151|   4.914276095|            0.0|\n",
      "|338.9992737|10.38613293|  200.8911924|17982.38726|     5.845501641| 338.9992737|      336.2797071|        14.31941121|         62.15668614|   4.921340625|            0.0|\n",
      "|319.9129388|7.421997644|  220.3853144|15772.65317|     9.157615312| 319.9129388|      463.2969139|        16.98166011|         80.26935417|   3.603609581|            0.0|\n",
      "|327.3799385|6.209697437|  169.3185048|22610.76871|     4.875413881| 327.3799385|      549.2767283|        17.01511804|         51.50550828|   3.893766831|            0.0|\n",
      "|387.4028567|7.025821771|  147.9680603|21226.66555|     7.342380639| 387.4028567|      421.0999169|        13.99610055|         51.17405802|   4.746091949|            1.0|\n",
      "+-----------+-----------+-------------+-----------+----------------+------------+-----------------+-------------------+--------------------+--------------+---------------+\n",
      "only showing top 20 rows\n",
      "\n"
     ]
    },
    {
     "name": "stdout",
     "output_type": "stream",
     "text": [
      "+----------+-----------------+------------------+------------------+-----------------+-----------------+------------------+-------------------+--------------------+-----------------+---------------+\n",
      "|Potability|          avg(ph)|     avg(Hardness)|       avg(Solids)| avg(Chloramines)|     avg(Sulfate)| avg(Conductivity)|avg(Organic_carbon)|avg(Trihalomethanes)|   avg(Turbidity)|avg(Potability)|\n",
      "+----------+-----------------+------------------+------------------+-----------------+-----------------+------------------+-------------------+--------------------+-----------------+---------------+\n",
      "|       0.0|7.085377288204867|196.73328431532053|21777.490781777895|7.092156204221223|334.5642993056295|426.73046905325344| 14.364347931442447|   66.30354620526703|3.965802536707207|            0.0|\n",
      "|       1.0|7.073783295348782|195.80074426245721|22383.991017830645| 7.16933802623318|332.5669902327923|425.38379997840417|   14.1608925211244|   66.53968374061084|3.968328289134596|            1.0|\n",
      "+----------+-----------------+------------------+------------------+-----------------+-----------------+------------------+-------------------+--------------------+-----------------+---------------+\n",
      "\n"
     ]
    }
   ],
   "source": [
    "# We can also group, and show the averages of each group.\n",
    "df.groupBy('Ph').mean().show()\n",
    "df.groupBy('Sulfate').mean().show()\n",
    "df.groupBy('Potability').mean().show()\n",
    "#each of it can be done"
   ]
  },
  {
   "cell_type": "code",
   "execution_count": 30,
   "id": "9cb796e7",
   "metadata": {},
   "outputs": [
    {
     "name": "stdout",
     "output_type": "stream",
     "text": [
      "+------------------+\n",
      "|   avg(Potability)|\n",
      "+------------------+\n",
      "|0.3901098901098901|\n",
      "+------------------+\n",
      "\n",
      "+------------------+\n",
      "|      avg(Sulfate)|\n",
      "+------------------+\n",
      "|333.77578249731533|\n",
      "+------------------+\n",
      "\n",
      "+------------------+\n",
      "|     avg(Hardness)|\n",
      "+------------------+\n",
      "|196.36949121777474|\n",
      "+------------------+\n",
      "\n",
      "+----------------+\n",
      "|         avg(ph)|\n",
      "+----------------+\n",
      "|7.08079381023912|\n",
      "+----------------+\n",
      "\n"
     ]
    }
   ],
   "source": [
    "# Instead of grouping, you can use aggregation which represents the entire dataset. \n",
    "df.agg({\"Potability\":\"mean\"}).show()\n",
    "df.agg({\"Sulfate\":\"mean\"}).show()\n",
    "df.agg({\"Hardness\":\"mean\"}).show()\n",
    "df.agg({\"ph\":\"mean\"}).show()"
   ]
  },
  {
   "cell_type": "code",
   "execution_count": 31,
   "id": "0268fa33",
   "metadata": {},
   "outputs": [
    {
     "name": "stdout",
     "output_type": "stream",
     "text": [
      "+------------------+\n",
      "|   Average Sulfate|\n",
      "+------------------+\n",
      "|333.77578249731533|\n",
      "+------------------+\n",
      "\n"
     ]
    }
   ],
   "source": [
    "# We can also import SQL functions. \n",
    "from pyspark.sql.functions import countDistinct,avg,stddev,format_number\n",
    "df.select(avg('Sulfate').alias('Average Sulfate')).show()\n",
    "#can do of others"
   ]
  },
  {
   "cell_type": "code",
   "execution_count": 32,
   "id": "9848b310",
   "metadata": {},
   "outputs": [
    {
     "name": "stdout",
     "output_type": "stream",
     "text": [
      "+--------------------------+\n",
      "|Sulfate_Standard_Deviation|\n",
      "+--------------------------+\n",
      "|                     41.42|\n",
      "+--------------------------+\n",
      "\n",
      "+---------------------+\n",
      "|ph_Standard_Deviation|\n",
      "+---------------------+\n",
      "|                 1.59|\n",
      "+---------------------+\n",
      "\n"
     ]
    }
   ],
   "source": [
    "# We can use SQL to do some basic manipulation.\n",
    "# Here we're getting the standard deviation in sulfate, formatting it to two decimal places and changing the column name.\n",
    "dev = df.select(stddev(\"Sulfate\"))\n",
    "\n",
    "dev.select(format_number('stddev_samp(Sulfate)',2).alias('Sulfate_Standard_Deviation')).show()\n",
    "#of others\n",
    "\n",
    "dev = df.select(stddev(\"ph\"))\n",
    "\n",
    "dev.select(format_number('stddev_samp(ph)',2).alias('ph_Standard_Deviation')).show()"
   ]
  },
  {
   "cell_type": "code",
   "execution_count": 33,
   "id": "dada256b",
   "metadata": {},
   "outputs": [
    {
     "name": "stdout",
     "output_type": "stream",
     "text": [
      "+-----------+-----------+-----------+-----------+-------+------------+--------------+---------------+-----------+----------+\n",
      "|         ph|   Hardness|     Solids|Chloramines|Sulfate|Conductivity|Organic_carbon|Trihalomethanes|  Turbidity|Potability|\n",
      "+-----------+-----------+-----------+-----------+-------+------------+--------------+---------------+-----------+----------+\n",
      "|       4.76|     183.35|   21568.43|       4.73|   null|      403.94|         18.67|          66.91|       4.54|       0.0|\n",
      "|1.844538366|233.7643427|28689.59578|  7.7244323|   null| 410.3872638|    15.6118593|    54.29944409|5.013463351|       0.0|\n",
      "|        5.7|     216.85|   35606.44|       7.18|   null|      504.64|         16.14|          77.54|       4.14|       0.0|\n",
      "|        8.1|     224.24|   19909.54|       9.28|   null|      418.61|         16.87|          66.42|       3.06|       0.0|\n",
      "|       null|     227.44|   22305.57|      10.33|   null|      554.82|         16.33|          45.38|       4.13|       0.0|\n",
      "|6.897322141|211.3601667|25650.77764|6.766009907|   null| 383.0143102|   13.93478804|    90.52332986| 5.02278363|       0.0|\n",
      "|       7.97|     218.69|   18767.66|       8.11|   null|       364.1|         14.53|          76.49|       4.01|       0.0|\n",
      "|        7.5|     205.34|    28388.0|       5.07|   null|      444.65|         13.23|           70.3|       4.78|       0.0|\n",
      "|       7.05|     211.05|    30980.6|      10.09|   null|      315.14|          20.4|          56.65|       4.27|       0.0|\n",
      "|       7.48|     260.09|   30616.62|       9.38|   null|      404.67|         15.93|          66.62|       4.78|       0.0|\n",
      "|       3.72|     129.42|   18630.06|       6.64|   null|      592.89|         15.18|          56.33|        4.5|       0.0|\n",
      "|       null|     155.06|   20557.24|       8.19|   null|      290.18|         16.62|          59.62|       4.09|       0.0|\n",
      "|       9.83|     190.76|   19677.89|       6.76|   null|      452.84|          16.9|          47.08|       2.86|       0.0|\n",
      "|       8.69|     195.14|   24656.24|       8.23|   null|      398.35|         12.38|          48.44|       4.48|       0.0|\n",
      "|       5.62|     304.24|   17281.98|        6.1|   null|      399.47|         12.27|          81.59|        2.9|       0.0|\n",
      "|       8.09|     127.74|   32653.91|       6.53|   null|      416.24|         11.12|          78.28|       4.07|       0.0|\n",
      "| 8.67993497|242.2286673|22984.05095|7.518764659|   null| 352.9425881|   18.70440906|    69.90790245|3.873470298|       0.0|\n",
      "|        6.2|     212.31|   21815.07|       7.87|   null|      362.11|         14.93|          63.87|       5.22|       0.0|\n",
      "|        3.9|      196.9|    21167.5|        7.0|   null|      444.48|         16.61|          90.18|       4.53|       0.0|\n",
      "|       null|103.4647587|27420.16742|8.417305032|   null| 485.9745005|   11.35113273|    67.86996368|4.620793452|       0.0|\n",
      "+-----------+-----------+-----------+-----------+-------+------------+--------------+---------------+-----------+----------+\n",
      "only showing top 20 rows\n",
      "\n",
      "+-----------+-----------+-----------+-----------+-----------+------------+--------------+---------------+-----------+----------+\n",
      "|         ph|   Hardness|     Solids|Chloramines|    Sulfate|Conductivity|Organic_carbon|Trihalomethanes|  Turbidity|Potability|\n",
      "+-----------+-----------+-----------+-----------+-----------+------------+--------------+---------------+-----------+----------+\n",
      "|5.057736411|137.6893436|11229.13778|6.411410463|481.0306423| 580.0952246|   15.39030437|    43.88251445|3.163935937|       1.0|\n",
      "|7.445189026|150.7757235|4168.196994|10.57340291|476.5397173|  355.578481|   15.35242482|    74.76097575|2.745803765|       1.0|\n",
      "|7.381757557|203.4603016|1372.091043|11.12915366|475.7374602| 361.3424956|   16.54843839|    55.13254619|3.338021759|       1.0|\n",
      "|       null|195.5409669|4142.499001| 9.89270344| 462.474215|  435.418245|   15.84604761|           null|3.612918763|       1.0|\n",
      "|8.895574458|107.3833271|27622.74627|6.163319674| 460.107069| 444.9295836|   13.99513554|    78.34841499|4.754234802|       0.0|\n",
      "|8.518531795|128.2634658|32018.28963|6.058740241|458.4410723| 554.1390374|   15.97619573|     87.4718213|4.147168618|       0.0|\n",
      "|       null|179.3201228|5075.269202| 8.73778295|455.4512337| 392.3537323|   16.83933062|    76.24362277|4.397533101|       0.0|\n",
      "|7.150046115|238.7982302|14708.47419|8.606774255|450.9144544| 365.7391217|   14.96653219|    53.14497859|2.633890804|       1.0|\n",
      "|       null|155.2626089| 42617.3034|5.829424193|449.2676875|  456.185338|   20.68097473|    77.13750041|2.846501199|       0.0|\n",
      "|5.423318496|185.9031794|18020.84243|6.401045767|447.4179624| 332.0500556|   7.715740128|    67.33368743|5.224654834|       0.0|\n",
      "|5.272156459| 181.732877|19015.46827|9.013016218|446.7240162| 390.0120033|   11.10346653|    63.82601002|4.063825854|       1.0|\n",
      "| 5.35256598|150.4952143|27795.73204|5.464057648|445.9383912| 422.4225087|   16.14451044|    78.37484518|4.779187009|       1.0|\n",
      "|7.984710742|121.0673575|40709.78166|5.796841349|445.3595467| 338.5099837|    12.8188163|    59.26919288|4.567879972|       0.0|\n",
      "|9.567822726|173.1114983|38787.46271|5.149999932| 444.970552| 492.4115244|   12.90422086|    48.48147718|4.197919055|       1.0|\n",
      "|0.989912213|133.2169416| 16922.8539|9.293288644|444.3757307| 322.2911912|   10.43007634|    43.57846551|5.160603788|       1.0|\n",
      "| 10.3781082|200.0041212|8644.831047|9.823507151|442.7614284| 473.8141914|   14.15624137|    64.16440897| 3.57744746|       0.0|\n",
      "|       null| 114.733545|13677.99404|9.981200456|441.8267766| 524.0003552|   11.38485847|    71.15328466|3.293848374|       1.0|\n",
      "|6.336588682|106.3801125|15570.14232|6.851404882|441.5876538| 380.4330194|   5.218232927|    48.73551396|4.356593856|       1.0|\n",
      "|6.910765112|242.0913383|7764.438022|8.045869831|440.6355091| 487.9323103|   18.37680201|    45.30653878|4.340148944|       1.0|\n",
      "|8.662709501|173.5319472| 20333.0795|5.636388433|439.7879384| 459.6331197|   16.28331118|    89.92425262|5.120102528|       0.0|\n",
      "+-----------+-----------+-----------+-----------+-----------+------------+--------------+---------------+-----------+----------+\n",
      "only showing top 20 rows\n",
      "\n"
     ]
    }
   ],
   "source": [
    "# Here's also a simple example of an ascending and descending sort by sulfate\n",
    "df.orderBy('Sulfate').show()\n",
    "\n",
    "df.orderBy(df['Sulfate'].desc()).show()"
   ]
  },
  {
   "cell_type": "code",
   "execution_count": 34,
   "id": "ffdb4e34",
   "metadata": {},
   "outputs": [],
   "source": [
    "# Must be included at the beginning of each new notebook. Remember to change the app name.\n",
    "import findspark\n",
    "findspark.init('/home/ubuntu/spark-3.2.1-bin-hadoop2.7')\n",
    "import pyspark\n",
    "from pyspark.sql import SparkSession\n",
    "spark = SparkSession.builder.appName('tree_methods_adv').getOrCreate()"
   ]
  },
  {
   "cell_type": "code",
   "execution_count": 35,
   "id": "5e53f637",
   "metadata": {},
   "outputs": [],
   "source": [
    "# Load training data. \n",
    "data = spark.read.csv('water_potability.1.csv',inferSchema=True,header=True)"
   ]
  },
  {
   "cell_type": "code",
   "execution_count": 36,
   "id": "8d93cfea",
   "metadata": {},
   "outputs": [
    {
     "name": "stdout",
     "output_type": "stream",
     "text": [
      "root\n",
      " |-- ph: double (nullable = true)\n",
      " |-- Hardness: double (nullable = true)\n",
      " |-- Solids: double (nullable = true)\n",
      " |-- Chloramines: double (nullable = true)\n",
      " |-- Sulfate: double (nullable = true)\n",
      " |-- Conductivity: double (nullable = true)\n",
      " |-- Organic_carbon: double (nullable = true)\n",
      " |-- Trihalomethanes: double (nullable = true)\n",
      " |-- Turbidity: double (nullable = true)\n",
      " |-- Potability: double (nullable = true)\n",
      "\n"
     ]
    }
   ],
   "source": [
    "# Let's get an idea of what the data looks like. \n",
    "data.printSchema()"
   ]
  },
  {
   "cell_type": "code",
   "execution_count": 37,
   "id": "520e8f61",
   "metadata": {},
   "outputs": [
    {
     "data": {
      "text/plain": [
       "Row(ph=None, Hardness=204.89, Solids=20791.32, Chloramines=7.3, Sulfate=368.52, Conductivity=564.31, Organic_carbon=10.38, Trihalomethanes=86.99, Turbidity=2.96, Potability=0.0)"
      ]
     },
     "execution_count": 37,
     "metadata": {},
     "output_type": "execute_result"
    }
   ],
   "source": [
    "data.head()"
   ]
  },
  {
   "cell_type": "code",
   "execution_count": 38,
   "id": "4479bd13",
   "metadata": {},
   "outputs": [],
   "source": [
    "# A few things we need to do before Spark can accept the data!\n",
    "# It needs to be in the form of two columns: \"name\" and \"numbers\".\n",
    "\n",
    "# Import VectorAssembler and Vectors\n",
    "from pyspark.ml.linalg import Vectors\n",
    "from pyspark.ml.feature import VectorAssembler"
   ]
  },
  {
   "cell_type": "code",
   "execution_count": 39,
   "id": "6d4db429",
   "metadata": {},
   "outputs": [
    {
     "data": {
      "text/plain": [
       "['ph',\n",
       " 'Hardness',\n",
       " 'Solids',\n",
       " 'Chloramines',\n",
       " 'Sulfate',\n",
       " 'Conductivity',\n",
       " 'Organic_carbon',\n",
       " 'Trihalomethanes',\n",
       " 'Turbidity',\n",
       " 'Potability']"
      ]
     },
     "execution_count": 39,
     "metadata": {},
     "output_type": "execute_result"
    }
   ],
   "source": [
    "# Let's visualise the columns to help with assembly. \n",
    "data.columns"
   ]
  },
  {
   "cell_type": "code",
   "execution_count": null,
   "id": "7e89dafd",
   "metadata": {},
   "outputs": [],
   "source": []
  },
  {
   "cell_type": "code",
   "execution_count": null,
   "id": "86dcc6e1",
   "metadata": {},
   "outputs": [],
   "source": []
  },
  {
   "cell_type": "code",
   "execution_count": null,
   "id": "dd09f634",
   "metadata": {},
   "outputs": [],
   "source": []
  },
  {
   "cell_type": "code",
   "execution_count": 40,
   "id": "e5d4698c",
   "metadata": {},
   "outputs": [],
   "source": [
    "# Must be included at the beginning of each new notebook. Remember to change the app name.\n",
    "import findspark\n",
    "findspark.init('/home/ubuntu/spark-3.2.1-bin-hadoop2.7')\n",
    "import pyspark\n",
    "from pyspark.sql import *\n",
    "spark = SparkSession.builder.appName('logistic_regression_adv').getOrCreate()\n",
    "\n",
    "# If you're getting an error with numpy, please type 'sudo pip install numpy --user' into the EC2 console.\n",
    "from pyspark.ml.classification import LogisticRegression"
   ]
  },
  {
   "cell_type": "code",
   "execution_count": 41,
   "id": "cda79583",
   "metadata": {},
   "outputs": [],
   "source": [
    " # Read in the CSV data.\n",
    "data = spark.read.csv(\"water_potability.1.csv\")"
   ]
  },
  {
   "cell_type": "code",
   "execution_count": 42,
   "id": "362d55d8",
   "metadata": {},
   "outputs": [
    {
     "name": "stdout",
     "output_type": "stream",
     "text": [
      "root\n",
      " |-- _c0: string (nullable = true)\n",
      " |-- _c1: string (nullable = true)\n",
      " |-- _c2: string (nullable = true)\n",
      " |-- _c3: string (nullable = true)\n",
      " |-- _c4: string (nullable = true)\n",
      " |-- _c5: string (nullable = true)\n",
      " |-- _c6: string (nullable = true)\n",
      " |-- _c7: string (nullable = true)\n",
      " |-- _c8: string (nullable = true)\n",
      " |-- _c9: string (nullable = true)\n",
      "\n"
     ]
    },
    {
     "data": {
      "text/plain": [
       "['_c0', '_c1', '_c2', '_c3', '_c4', '_c5', '_c6', '_c7', '_c8', '_c9']"
      ]
     },
     "execution_count": 42,
     "metadata": {},
     "output_type": "execute_result"
    }
   ],
   "source": [
    "\n",
    "# Print data schema.\n",
    "data.printSchema()\n",
    "\n",
    "# Print data columns.\n",
    "data.columns\n"
   ]
  },
  {
   "cell_type": "code",
   "execution_count": 43,
   "id": "eabee170",
   "metadata": {},
   "outputs": [],
   "source": [
    "\n",
    "from pyspark.ml.feature import (VectorAssembler,VectorIndexer,\n",
    "                                OneHotEncoder,StringIndexer)\n"
   ]
  },
  {
   "cell_type": "code",
   "execution_count": 44,
   "id": "08cfb132",
   "metadata": {},
   "outputs": [
    {
     "data": {
      "image/png": "[encoded data removed]",
      "text/plain": [
       "<Figure size 432x288 with 1 Axes>"
      ]
     },
     "metadata": {
      "needs_background": "light"
     },
     "output_type": "display_data"
    },
    {
     "data": {
      "image/png": "[encoded data removed]",
      "text/plain": [
       "<Figure size 432x288 with 1 Axes>"
      ]
     },
     "metadata": {
      "needs_background": "light"
     },
     "output_type": "display_data"
    }
   ],
   "source": [
    "# Import the relevant Python libraries.\n",
    "import numpy as np\n",
    "import matplotlib.pyplot as plt\n",
    "%matplotlib inline\n",
    "\n",
    "# Convert Sulfate to an array using Numpy and plot it using pyplot. \n",
    "_c3Arr = np.array(data.select('_c3').collect())\n",
    "plt.hist(_c3Arr)\n",
    "plt.show()\n",
    "\n",
    "# Because you can interact with Spark using SQL, you can also filter the data you see. \n",
    "# For example, age has some null values. We can remove all null values before visualising the data.\n",
    "_c9Arr = np.array(data.filter('_c9> 0').select('_c9').collect())\n",
    "plt.hist(_c9Arr)\n",
    "plt.show()"
   ]
  },
  {
   "cell_type": "code",
   "execution_count": null,
   "id": "10e366fe",
   "metadata": {},
   "outputs": [],
   "source": [
    "# Import the relevant Python libraries.\n",
    "import numpy as np\n",
    "import matplotlib.pyplot as plt\n",
    "%matplotlib inline\n",
    "\n",
    "# Convert Sulfate to an array using Numpy and plot it using pyplot. \n",
    "_c3Arr = np.array(data.select('_c3').collect())\n",
    "plt.hist(_c3Arr)\n",
    "plt.show()\n",
    "\n",
    "# Because you can interact with Spark using SQL, you can also filter the data you see. \n",
    "# For example, age has some null values. We can remove all null values before visualising the data.\n",
    "_c8Arr = np.array(data.filter('_c8> 0').select('_c8').collect())\n",
    "plt.hist(_c8Arr)\n",
    "plt.show()"
   ]
  },
  {
   "cell_type": "code",
   "execution_count": null,
   "id": "ed05a37e",
   "metadata": {},
   "outputs": [],
   "source": [
    "\n"
   ]
  },
  {
   "cell_type": "code",
   "execution_count": 57,
   "id": "75225708",
   "metadata": {},
   "outputs": [],
   "source": [
    "# Must be included at the beginning of each new notebook. Remember to change the app name.\n",
    "import findspark\n",
    "findspark.init('/home/ubuntu/spark-3.2.1-bin-hadoop2.7')\n",
    "import pyspark\n",
    "from pyspark.sql import SparkSession\n",
    "spark = SparkSession.builder.appName('linear_regression_adv').getOrCreate()\n",
    "\n",
    "# If you're getting an error with numpy, please type 'sudo pip install numpy --user' into the EC2 console.\n",
    "from pyspark.ml.regression import LinearRegression"
   ]
  },
  {
   "cell_type": "code",
   "execution_count": 58,
   "id": "95ef4161",
   "metadata": {},
   "outputs": [],
   "source": [
    "data = spark.read.csv(\"water_potability.1.csv\",inferSchema=True,header=True)"
   ]
  },
  {
   "cell_type": "code",
   "execution_count": 59,
   "id": "7c286001",
   "metadata": {},
   "outputs": [
    {
     "name": "stdout",
     "output_type": "stream",
     "text": [
      "root\n",
      " |-- ph: double (nullable = true)\n",
      " |-- Hardness: double (nullable = true)\n",
      " |-- Solids: double (nullable = true)\n",
      " |-- Chloramines: double (nullable = true)\n",
      " |-- Sulfate: double (nullable = true)\n",
      " |-- Conductivity: double (nullable = true)\n",
      " |-- Organic_carbon: double (nullable = true)\n",
      " |-- Trihalomethanes: double (nullable = true)\n",
      " |-- Turbidity: double (nullable = true)\n",
      " |-- Potability: double (nullable = true)\n",
      "\n"
     ]
    }
   ],
   "source": [
    "# Print the schema of the DataFrame. You can see potential features as well as the predictor.\n",
    "data.printSchema()"
   ]
  },
  {
   "cell_type": "code",
   "execution_count": 60,
   "id": "2efb6424",
   "metadata": {},
   "outputs": [
    {
     "data": {
      "text/plain": [
       "Row(ph=None, Hardness=204.89, Solids=20791.32, Chloramines=7.3, Sulfate=368.52, Conductivity=564.31, Organic_carbon=10.38, Trihalomethanes=86.99, Turbidity=2.96, Potability=0.0)"
      ]
     },
     "execution_count": 60,
     "metadata": {},
     "output_type": "execute_result"
    }
   ],
   "source": [
    "# Let's focus on one row to make it easier to read.\n",
    "data.head()"
   ]
  },
  {
   "cell_type": "code",
   "execution_count": 61,
   "id": "c6f76361",
   "metadata": {},
   "outputs": [
    {
     "name": "stdout",
     "output_type": "stream",
     "text": [
      "None\n",
      "204.89\n",
      "20791.32\n",
      "7.3\n",
      "368.52\n",
      "564.31\n",
      "10.38\n",
      "86.99\n",
      "2.96\n",
      "0.0\n"
     ]
    }
   ],
   "source": [
    "# A simple for loop allows us to make it even clearer. \n",
    "for item in data.head():\n",
    "    print(item)"
   ]
  },
  {
   "cell_type": "code",
   "execution_count": 62,
   "id": "a331dc73",
   "metadata": {},
   "outputs": [],
   "source": [
    "#Setting Up a DataFrame for Machine Learning (MLlib)\n",
    "\n",
    "\n",
    "# Import VectorAssembler and Vectors\n",
    "from pyspark.ml.linalg import Vectors\n",
    "from pyspark.ml.feature import VectorAssembler"
   ]
  },
  {
   "cell_type": "code",
   "execution_count": 63,
   "id": "4bd834a1",
   "metadata": {},
   "outputs": [],
   "source": [
    "#The input columns are the feature column names, and the output column is what you'd like the new column to be named. \n",
    "assembler = VectorAssembler(\n",
    "    inputCols=[\"ph\", \"Hardness\", \"Solids\",],\n",
    "    outputCol=\"features\")\n"
   ]
  },
  {
   "cell_type": "code",
   "execution_count": 64,
   "id": "43ce5ab6",
   "metadata": {},
   "outputs": [],
   "source": [
    "# Now that we've created the assembler variable, let's actually transform the data.\n",
    "output = assembler.transform(data)"
   ]
  },
  {
   "cell_type": "code",
   "execution_count": 65,
   "id": "e0c36a16",
   "metadata": {},
   "outputs": [
    {
     "name": "stdout",
     "output_type": "stream",
     "text": [
      "root\n",
      " |-- ph: double (nullable = true)\n",
      " |-- Hardness: double (nullable = true)\n",
      " |-- Solids: double (nullable = true)\n",
      " |-- Chloramines: double (nullable = true)\n",
      " |-- Sulfate: double (nullable = true)\n",
      " |-- Conductivity: double (nullable = true)\n",
      " |-- Organic_carbon: double (nullable = true)\n",
      " |-- Trihalomethanes: double (nullable = true)\n",
      " |-- Turbidity: double (nullable = true)\n",
      " |-- Potability: double (nullable = true)\n",
      " |-- features: vector (nullable = true)\n",
      "\n"
     ]
    },
    {
     "name": "stderr",
     "output_type": "stream",
     "text": [
      "24/05/24 02:20:38 ERROR Executor: Exception in task 0.0 in stage 70.0 (TID 58)\n",
      "org.apache.spark.SparkException: Failed to execute user defined function (VectorAssembler$$Lambda$3415/0x000000084135e840: (struct<ph:double,Hardness:double,Solids:double>) => struct<type:tinyint,size:int,indices:array<int>,values:array<double>>)\n",
      "\tat org.apache.spark.sql.errors.QueryExecutionErrors$.failedExecuteUserDefinedFunctionError(QueryExecutionErrors.scala:136)\n",
      "\tat org.apache.spark.sql.errors.QueryExecutionErrors.failedExecuteUserDefinedFunctionError(QueryExecutionErrors.scala)\n",
      "\tat org.apache.spark.sql.catalyst.expressions.GeneratedClass$GeneratedIteratorForCodegenStage1.processNext(Unknown Source)\n",
      "\tat org.apache.spark.sql.execution.BufferedRowIterator.hasNext(BufferedRowIterator.java:43)\n",
      "\tat org.apache.spark.sql.execution.WholeStageCodegenExec$$anon$1.hasNext(WholeStageCodegenExec.scala:759)\n",
      "\tat org.apache.spark.sql.execution.SparkPlan.$anonfun$getByteArrayRdd$1(SparkPlan.scala:349)\n",
      "\tat org.apache.spark.rdd.RDD.$anonfun$mapPartitionsInternal$2(RDD.scala:898)\n",
      "\tat org.apache.spark.rdd.RDD.$anonfun$mapPartitionsInternal$2$adapted(RDD.scala:898)\n",
      "\tat org.apache.spark.rdd.MapPartitionsRDD.compute(MapPartitionsRDD.scala:52)\n",
      "\tat org.apache.spark.rdd.RDD.computeOrReadCheckpoint(RDD.scala:373)\n",
      "\tat org.apache.spark.rdd.RDD.iterator(RDD.scala:337)\n",
      "\tat org.apache.spark.scheduler.ResultTask.runTask(ResultTask.scala:90)\n",
      "\tat org.apache.spark.scheduler.Task.run(Task.scala:131)\n",
      "\tat org.apache.spark.executor.Executor$TaskRunner.$anonfun$run$3(Executor.scala:506)\n",
      "\tat org.apache.spark.util.Utils$.tryWithSafeFinally(Utils.scala:1462)\n",
      "\tat org.apache.spark.executor.Executor$TaskRunner.run(Executor.scala:509)\n",
      "\tat java.base/java.util.concurrent.ThreadPoolExecutor.runWorker(ThreadPoolExecutor.java:1128)\n",
      "\tat java.base/java.util.concurrent.ThreadPoolExecutor$Worker.run(ThreadPoolExecutor.java:628)\n",
      "\tat java.base/java.lang.Thread.run(Thread.java:829)\n",
      "Caused by: org.apache.spark.SparkException: Encountered null while assembling a row with handleInvalid = \"error\". Consider\n",
      "removing nulls from dataset or using handleInvalid = \"keep\" or \"skip\".\n",
      "\tat org.apache.spark.ml.feature.VectorAssembler$.$anonfun$assemble$1(VectorAssembler.scala:291)\n",
      "\tat org.apache.spark.ml.feature.VectorAssembler$.$anonfun$assemble$1$adapted(VectorAssembler.scala:260)\n",
      "\tat scala.collection.IndexedSeqOptimized.foreach(IndexedSeqOptimized.scala:36)\n",
      "\tat scala.collection.IndexedSeqOptimized.foreach$(IndexedSeqOptimized.scala:33)\n",
      "\tat scala.collection.mutable.WrappedArray.foreach(WrappedArray.scala:38)\n",
      "\tat org.apache.spark.ml.feature.VectorAssembler$.assemble(VectorAssembler.scala:260)\n",
      "\tat org.apache.spark.ml.feature.VectorAssembler.$anonfun$transform$6(VectorAssembler.scala:143)\n",
      "\t... 17 more\n",
      "24/05/24 02:20:38 WARN TaskSetManager: Lost task 0.0 in stage 70.0 (TID 58) (ip-172-31-55-62.ec2.internal executor driver): org.apache.spark.SparkException: Failed to execute user defined function (VectorAssembler$$Lambda$3415/0x000000084135e840: (struct<ph:double,Hardness:double,Solids:double>) => struct<type:tinyint,size:int,indices:array<int>,values:array<double>>)\n",
      "\tat org.apache.spark.sql.errors.QueryExecutionErrors$.failedExecuteUserDefinedFunctionError(QueryExecutionErrors.scala:136)\n",
      "\tat org.apache.spark.sql.errors.QueryExecutionErrors.failedExecuteUserDefinedFunctionError(QueryExecutionErrors.scala)\n",
      "\tat org.apache.spark.sql.catalyst.expressions.GeneratedClass$GeneratedIteratorForCodegenStage1.processNext(Unknown Source)\n",
      "\tat org.apache.spark.sql.execution.BufferedRowIterator.hasNext(BufferedRowIterator.java:43)\n",
      "\tat org.apache.spark.sql.execution.WholeStageCodegenExec$$anon$1.hasNext(WholeStageCodegenExec.scala:759)\n",
      "\tat org.apache.spark.sql.execution.SparkPlan.$anonfun$getByteArrayRdd$1(SparkPlan.scala:349)\n",
      "\tat org.apache.spark.rdd.RDD.$anonfun$mapPartitionsInternal$2(RDD.scala:898)\n",
      "\tat org.apache.spark.rdd.RDD.$anonfun$mapPartitionsInternal$2$adapted(RDD.scala:898)\n",
      "\tat org.apache.spark.rdd.MapPartitionsRDD.compute(MapPartitionsRDD.scala:52)\n",
      "\tat org.apache.spark.rdd.RDD.computeOrReadCheckpoint(RDD.scala:373)\n",
      "\tat org.apache.spark.rdd.RDD.iterator(RDD.scala:337)\n",
      "\tat org.apache.spark.scheduler.ResultTask.runTask(ResultTask.scala:90)\n",
      "\tat org.apache.spark.scheduler.Task.run(Task.scala:131)\n",
      "\tat org.apache.spark.executor.Executor$TaskRunner.$anonfun$run$3(Executor.scala:506)\n",
      "\tat org.apache.spark.util.Utils$.tryWithSafeFinally(Utils.scala:1462)\n",
      "\tat org.apache.spark.executor.Executor$TaskRunner.run(Executor.scala:509)\n",
      "\tat java.base/java.util.concurrent.ThreadPoolExecutor.runWorker(ThreadPoolExecutor.java:1128)\n",
      "\tat java.base/java.util.concurrent.ThreadPoolExecutor$Worker.run(ThreadPoolExecutor.java:628)\n",
      "\tat java.base/java.lang.Thread.run(Thread.java:829)\n",
      "Caused by: org.apache.spark.SparkException: Encountered null while assembling a row with handleInvalid = \"error\". Consider\n",
      "removing nulls from dataset or using handleInvalid = \"keep\" or \"skip\".\n",
      "\tat org.apache.spark.ml.feature.VectorAssembler$.$anonfun$assemble$1(VectorAssembler.scala:291)\n",
      "\tat org.apache.spark.ml.feature.VectorAssembler$.$anonfun$assemble$1$adapted(VectorAssembler.scala:260)\n",
      "\tat scala.collection.IndexedSeqOptimized.foreach(IndexedSeqOptimized.scala:36)\n",
      "\tat scala.collection.IndexedSeqOptimized.foreach$(IndexedSeqOptimized.scala:33)\n",
      "\tat scala.collection.mutable.WrappedArray.foreach(WrappedArray.scala:38)\n",
      "\tat org.apache.spark.ml.feature.VectorAssembler$.assemble(VectorAssembler.scala:260)\n",
      "\tat org.apache.spark.ml.feature.VectorAssembler.$anonfun$transform$6(VectorAssembler.scala:143)\n",
      "\t... 17 more\n",
      "\n",
      "24/05/24 02:20:38 ERROR TaskSetManager: Task 0 in stage 70.0 failed 1 times; aborting job\n"
     ]
    },
    {
     "ename": "Py4JJavaError",
     "evalue": "An error occurred while calling o451.collectToPython.\n: org.apache.spark.SparkException: Job aborted due to stage failure: Task 0 in stage 70.0 failed 1 times, most recent failure: Lost task 0.0 in stage 70.0 (TID 58) (ip-172-31-55-62.ec2.internal executor driver): org.apache.spark.SparkException: Failed to execute user defined function (VectorAssembler$$Lambda$3415/0x000000084135e840: (struct<ph:double,Hardness:double,Solids:double>) => struct<type:tinyint,size:int,indices:array<int>,values:array<double>>)\n\tat org.apache.spark.sql.errors.QueryExecutionErrors$.failedExecuteUserDefinedFunctionError(QueryExecutionErrors.scala:136)\n\tat org.apache.spark.sql.errors.QueryExecutionErrors.failedExecuteUserDefinedFunctionError(QueryExecutionErrors.scala)\n\tat org.apache.spark.sql.catalyst.expressions.GeneratedClass$GeneratedIteratorForCodegenStage1.processNext(Unknown Source)\n\tat org.apache.spark.sql.execution.BufferedRowIterator.hasNext(BufferedRowIterator.java:43)\n\tat org.apache.spark.sql.execution.WholeStageCodegenExec$$anon$1.hasNext(WholeStageCodegenExec.scala:759)\n\tat org.apache.spark.sql.execution.SparkPlan.$anonfun$getByteArrayRdd$1(SparkPlan.scala:349)\n\tat org.apache.spark.rdd.RDD.$anonfun$mapPartitionsInternal$2(RDD.scala:898)\n\tat org.apache.spark.rdd.RDD.$anonfun$mapPartitionsInternal$2$adapted(RDD.scala:898)\n\tat org.apache.spark.rdd.MapPartitionsRDD.compute(MapPartitionsRDD.scala:52)\n\tat org.apache.spark.rdd.RDD.computeOrReadCheckpoint(RDD.scala:373)\n\tat org.apache.spark.rdd.RDD.iterator(RDD.scala:337)\n\tat org.apache.spark.scheduler.ResultTask.runTask(ResultTask.scala:90)\n\tat org.apache.spark.scheduler.Task.run(Task.scala:131)\n\tat org.apache.spark.executor.Executor$TaskRunner.$anonfun$run$3(Executor.scala:506)\n\tat org.apache.spark.util.Utils$.tryWithSafeFinally(Utils.scala:1462)\n\tat org.apache.spark.executor.Executor$TaskRunner.run(Executor.scala:509)\n\tat java.base/java.util.concurrent.ThreadPoolExecutor.runWorker(ThreadPoolExecutor.java:1128)\n\tat java.base/java.util.concurrent.ThreadPoolExecutor$Worker.run(ThreadPoolExecutor.java:628)\n\tat java.base/java.lang.Thread.run(Thread.java:829)\nCaused by: org.apache.spark.SparkException: Encountered null while assembling a row with handleInvalid = \"error\". Consider\nremoving nulls from dataset or using handleInvalid = \"keep\" or \"skip\".\n\tat org.apache.spark.ml.feature.VectorAssembler$.$anonfun$assemble$1(VectorAssembler.scala:291)\n\tat org.apache.spark.ml.feature.VectorAssembler$.$anonfun$assemble$1$adapted(VectorAssembler.scala:260)\n\tat scala.collection.IndexedSeqOptimized.foreach(IndexedSeqOptimized.scala:36)\n\tat scala.collection.IndexedSeqOptimized.foreach$(IndexedSeqOptimized.scala:33)\n\tat scala.collection.mutable.WrappedArray.foreach(WrappedArray.scala:38)\n\tat org.apache.spark.ml.feature.VectorAssembler$.assemble(VectorAssembler.scala:260)\n\tat org.apache.spark.ml.feature.VectorAssembler.$anonfun$transform$6(VectorAssembler.scala:143)\n\t... 17 more\n\nDriver stacktrace:\n\tat org.apache.spark.scheduler.DAGScheduler.failJobAndIndependentStages(DAGScheduler.scala:2454)\n\tat org.apache.spark.scheduler.DAGScheduler.$anonfun$abortStage$2(DAGScheduler.scala:2403)\n\tat org.apache.spark.scheduler.DAGScheduler.$anonfun$abortStage$2$adapted(DAGScheduler.scala:2402)\n\tat scala.collection.mutable.ResizableArray.foreach(ResizableArray.scala:62)\n\tat scala.collection.mutable.ResizableArray.foreach$(ResizableArray.scala:55)\n\tat scala.collection.mutable.ArrayBuffer.foreach(ArrayBuffer.scala:49)\n\tat org.apache.spark.scheduler.DAGScheduler.abortStage(DAGScheduler.scala:2402)\n\tat org.apache.spark.scheduler.DAGScheduler.$anonfun$handleTaskSetFailed$1(DAGScheduler.scala:1160)\n\tat org.apache.spark.scheduler.DAGScheduler.$anonfun$handleTaskSetFailed$1$adapted(DAGScheduler.scala:1160)\n\tat scala.Option.foreach(Option.scala:407)\n\tat org.apache.spark.scheduler.DAGScheduler.handleTaskSetFailed(DAGScheduler.scala:1160)\n\tat org.apache.spark.scheduler.DAGSchedulerEventProcessLoop.doOnReceive(DAGScheduler.scala:2642)\n\tat org.apache.spark.scheduler.DAGSchedulerEventProcessLoop.onReceive(DAGScheduler.scala:2584)\n\tat org.apache.spark.scheduler.DAGSchedulerEventProcessLoop.onReceive(DAGScheduler.scala:2573)\n\tat org.apache.spark.util.EventLoop$$anon$1.run(EventLoop.scala:49)\n\tat org.apache.spark.scheduler.DAGScheduler.runJob(DAGScheduler.scala:938)\n\tat org.apache.spark.SparkContext.runJob(SparkContext.scala:2214)\n\tat org.apache.spark.SparkContext.runJob(SparkContext.scala:2235)\n\tat org.apache.spark.SparkContext.runJob(SparkContext.scala:2254)\n\tat org.apache.spark.sql.execution.SparkPlan.executeTake(SparkPlan.scala:476)\n\tat org.apache.spark.sql.execution.SparkPlan.executeTake(SparkPlan.scala:429)\n\tat org.apache.spark.sql.execution.CollectLimitExec.executeCollect(limit.scala:48)\n\tat org.apache.spark.sql.Dataset.$anonfun$collectToPython$1(Dataset.scala:3538)\n\tat org.apache.spark.sql.Dataset.$anonfun$withAction$1(Dataset.scala:3706)\n\tat org.apache.spark.sql.execution.SQLExecution$.$anonfun$withNewExecutionId$5(SQLExecution.scala:103)\n\tat org.apache.spark.sql.execution.SQLExecution$.withSQLConfPropagated(SQLExecution.scala:163)\n\tat org.apache.spark.sql.execution.SQLExecution$.$anonfun$withNewExecutionId$1(SQLExecution.scala:90)\n\tat org.apache.spark.sql.SparkSession.withActive(SparkSession.scala:775)\n\tat org.apache.spark.sql.execution.SQLExecution$.withNewExecutionId(SQLExecution.scala:64)\n\tat org.apache.spark.sql.Dataset.withAction(Dataset.scala:3704)\n\tat org.apache.spark.sql.Dataset.collectToPython(Dataset.scala:3535)\n\tat java.base/jdk.internal.reflect.NativeMethodAccessorImpl.invoke0(Native Method)\n\tat java.base/jdk.internal.reflect.NativeMethodAccessorImpl.invoke(NativeMethodAccessorImpl.java:62)\n\tat java.base/jdk.internal.reflect.DelegatingMethodAccessorImpl.invoke(DelegatingMethodAccessorImpl.java:43)\n\tat java.base/java.lang.reflect.Method.invoke(Method.java:566)\n\tat py4j.reflection.MethodInvoker.invoke(MethodInvoker.java:244)\n\tat py4j.reflection.ReflectionEngine.invoke(ReflectionEngine.java:357)\n\tat py4j.Gateway.invoke(Gateway.java:282)\n\tat py4j.commands.AbstractCommand.invokeMethod(AbstractCommand.java:132)\n\tat py4j.commands.CallCommand.execute(CallCommand.java:79)\n\tat py4j.ClientServerConnection.waitForCommands(ClientServerConnection.java:182)\n\tat py4j.ClientServerConnection.run(ClientServerConnection.java:106)\n\tat java.base/java.lang.Thread.run(Thread.java:829)\nCaused by: org.apache.spark.SparkException: Failed to execute user defined function (VectorAssembler$$Lambda$3415/0x000000084135e840: (struct<ph:double,Hardness:double,Solids:double>) => struct<type:tinyint,size:int,indices:array<int>,values:array<double>>)\n\tat org.apache.spark.sql.errors.QueryExecutionErrors$.failedExecuteUserDefinedFunctionError(QueryExecutionErrors.scala:136)\n\tat org.apache.spark.sql.errors.QueryExecutionErrors.failedExecuteUserDefinedFunctionError(QueryExecutionErrors.scala)\n\tat org.apache.spark.sql.catalyst.expressions.GeneratedClass$GeneratedIteratorForCodegenStage1.processNext(Unknown Source)\n\tat org.apache.spark.sql.execution.BufferedRowIterator.hasNext(BufferedRowIterator.java:43)\n\tat org.apache.spark.sql.execution.WholeStageCodegenExec$$anon$1.hasNext(WholeStageCodegenExec.scala:759)\n\tat org.apache.spark.sql.execution.SparkPlan.$anonfun$getByteArrayRdd$1(SparkPlan.scala:349)\n\tat org.apache.spark.rdd.RDD.$anonfun$mapPartitionsInternal$2(RDD.scala:898)\n\tat org.apache.spark.rdd.RDD.$anonfun$mapPartitionsInternal$2$adapted(RDD.scala:898)\n\tat org.apache.spark.rdd.MapPartitionsRDD.compute(MapPartitionsRDD.scala:52)\n\tat org.apache.spark.rdd.RDD.computeOrReadCheckpoint(RDD.scala:373)\n\tat org.apache.spark.rdd.RDD.iterator(RDD.scala:337)\n\tat org.apache.spark.scheduler.ResultTask.runTask(ResultTask.scala:90)\n\tat org.apache.spark.scheduler.Task.run(Task.scala:131)\n\tat org.apache.spark.executor.Executor$TaskRunner.$anonfun$run$3(Executor.scala:506)\n\tat org.apache.spark.util.Utils$.tryWithSafeFinally(Utils.scala:1462)\n\tat org.apache.spark.executor.Executor$TaskRunner.run(Executor.scala:509)\n\tat java.base/java.util.concurrent.ThreadPoolExecutor.runWorker(ThreadPoolExecutor.java:1128)\n\tat java.base/java.util.concurrent.ThreadPoolExecutor$Worker.run(ThreadPoolExecutor.java:628)\n\t... 1 more\nCaused by: org.apache.spark.SparkException: Encountered null while assembling a row with handleInvalid = \"error\". Consider\nremoving nulls from dataset or using handleInvalid = \"keep\" or \"skip\".\n\tat org.apache.spark.ml.feature.VectorAssembler$.$anonfun$assemble$1(VectorAssembler.scala:291)\n\tat org.apache.spark.ml.feature.VectorAssembler$.$anonfun$assemble$1$adapted(VectorAssembler.scala:260)\n\tat scala.collection.IndexedSeqOptimized.foreach(IndexedSeqOptimized.scala:36)\n\tat scala.collection.IndexedSeqOptimized.foreach$(IndexedSeqOptimized.scala:33)\n\tat scala.collection.mutable.WrappedArray.foreach(WrappedArray.scala:38)\n\tat org.apache.spark.ml.feature.VectorAssembler$.assemble(VectorAssembler.scala:260)\n\tat org.apache.spark.ml.feature.VectorAssembler.$anonfun$transform$6(VectorAssembler.scala:143)\n\t... 17 more\n",
     "output_type": "error",
     "traceback": [
      "\u001b[0;31m---------------------------------------------------------------------------\u001b[0m",
      "\u001b[0;31mPy4JJavaError\u001b[0m                             Traceback (most recent call last)",
      "Input \u001b[0;32mIn [65]\u001b[0m, in \u001b[0;36m<cell line: 5>\u001b[0;34m()\u001b[0m\n\u001b[1;32m      2\u001b[0m output\u001b[38;5;241m.\u001b[39mprintSchema()\n\u001b[1;32m      4\u001b[0m \u001b[38;5;66;03m# You can see that the features column is a dense vector that combines the various features as expected.\u001b[39;00m\n\u001b[0;32m----> 5\u001b[0m \u001b[43moutput\u001b[49m\u001b[38;5;241;43m.\u001b[39;49m\u001b[43mhead\u001b[49m\u001b[43m(\u001b[49m\u001b[38;5;241;43m1\u001b[39;49m\u001b[43m)\u001b[49m\n",
      "File \u001b[0;32m~/.local/lib/python3.10/site-packages/pyspark/sql/dataframe.py:1605\u001b[0m, in \u001b[0;36mDataFrame.head\u001b[0;34m(self, n)\u001b[0m\n\u001b[1;32m   1603\u001b[0m     rs \u001b[38;5;241m=\u001b[39m \u001b[38;5;28mself\u001b[39m\u001b[38;5;241m.\u001b[39mhead(\u001b[38;5;241m1\u001b[39m)\n\u001b[1;32m   1604\u001b[0m     \u001b[38;5;28;01mreturn\u001b[39;00m rs[\u001b[38;5;241m0\u001b[39m] \u001b[38;5;28;01mif\u001b[39;00m rs \u001b[38;5;28;01melse\u001b[39;00m \u001b[38;5;28;01mNone\u001b[39;00m\n\u001b[0;32m-> 1605\u001b[0m \u001b[38;5;28;01mreturn\u001b[39;00m \u001b[38;5;28;43mself\u001b[39;49m\u001b[38;5;241;43m.\u001b[39;49m\u001b[43mtake\u001b[49m\u001b[43m(\u001b[49m\u001b[43mn\u001b[49m\u001b[43m)\u001b[49m\n",
      "File \u001b[0;32m~/.local/lib/python3.10/site-packages/pyspark/sql/dataframe.py:744\u001b[0m, in \u001b[0;36mDataFrame.take\u001b[0;34m(self, num)\u001b[0m\n\u001b[1;32m    734\u001b[0m \u001b[38;5;28;01mdef\u001b[39;00m \u001b[38;5;21mtake\u001b[39m(\u001b[38;5;28mself\u001b[39m, num):\n\u001b[1;32m    735\u001b[0m     \u001b[38;5;124;03m\"\"\"Returns the first ``num`` rows as a :class:`list` of :class:`Row`.\u001b[39;00m\n\u001b[1;32m    736\u001b[0m \n\u001b[1;32m    737\u001b[0m \u001b[38;5;124;03m    .. versionadded:: 1.3.0\u001b[39;00m\n\u001b[0;32m   (...)\u001b[0m\n\u001b[1;32m    742\u001b[0m \u001b[38;5;124;03m    [Row(age=2, name='Alice'), Row(age=5, name='Bob')]\u001b[39;00m\n\u001b[1;32m    743\u001b[0m \u001b[38;5;124;03m    \"\"\"\u001b[39;00m\n\u001b[0;32m--> 744\u001b[0m     \u001b[38;5;28;01mreturn\u001b[39;00m \u001b[38;5;28;43mself\u001b[39;49m\u001b[38;5;241;43m.\u001b[39;49m\u001b[43mlimit\u001b[49m\u001b[43m(\u001b[49m\u001b[43mnum\u001b[49m\u001b[43m)\u001b[49m\u001b[38;5;241;43m.\u001b[39;49m\u001b[43mcollect\u001b[49m\u001b[43m(\u001b[49m\u001b[43m)\u001b[49m\n",
      "File \u001b[0;32m~/.local/lib/python3.10/site-packages/pyspark/sql/dataframe.py:693\u001b[0m, in \u001b[0;36mDataFrame.collect\u001b[0;34m(self)\u001b[0m\n\u001b[1;32m    683\u001b[0m \u001b[38;5;124;03m\"\"\"Returns all the records as a list of :class:`Row`.\u001b[39;00m\n\u001b[1;32m    684\u001b[0m \n\u001b[1;32m    685\u001b[0m \u001b[38;5;124;03m.. versionadded:: 1.3.0\u001b[39;00m\n\u001b[0;32m   (...)\u001b[0m\n\u001b[1;32m    690\u001b[0m \u001b[38;5;124;03m[Row(age=2, name='Alice'), Row(age=5, name='Bob')]\u001b[39;00m\n\u001b[1;32m    691\u001b[0m \u001b[38;5;124;03m\"\"\"\u001b[39;00m\n\u001b[1;32m    692\u001b[0m \u001b[38;5;28;01mwith\u001b[39;00m SCCallSiteSync(\u001b[38;5;28mself\u001b[39m\u001b[38;5;241m.\u001b[39m_sc) \u001b[38;5;28;01mas\u001b[39;00m css:\n\u001b[0;32m--> 693\u001b[0m     sock_info \u001b[38;5;241m=\u001b[39m \u001b[38;5;28;43mself\u001b[39;49m\u001b[38;5;241;43m.\u001b[39;49m\u001b[43m_jdf\u001b[49m\u001b[38;5;241;43m.\u001b[39;49m\u001b[43mcollectToPython\u001b[49m\u001b[43m(\u001b[49m\u001b[43m)\u001b[49m\n\u001b[1;32m    694\u001b[0m \u001b[38;5;28;01mreturn\u001b[39;00m \u001b[38;5;28mlist\u001b[39m(_load_from_socket(sock_info, BatchedSerializer(PickleSerializer())))\n",
      "File \u001b[0;32m~/.local/lib/python3.10/site-packages/py4j/java_gateway.py:1321\u001b[0m, in \u001b[0;36mJavaMember.__call__\u001b[0;34m(self, *args)\u001b[0m\n\u001b[1;32m   1315\u001b[0m command \u001b[38;5;241m=\u001b[39m proto\u001b[38;5;241m.\u001b[39mCALL_COMMAND_NAME \u001b[38;5;241m+\u001b[39m\\\n\u001b[1;32m   1316\u001b[0m     \u001b[38;5;28mself\u001b[39m\u001b[38;5;241m.\u001b[39mcommand_header \u001b[38;5;241m+\u001b[39m\\\n\u001b[1;32m   1317\u001b[0m     args_command \u001b[38;5;241m+\u001b[39m\\\n\u001b[1;32m   1318\u001b[0m     proto\u001b[38;5;241m.\u001b[39mEND_COMMAND_PART\n\u001b[1;32m   1320\u001b[0m answer \u001b[38;5;241m=\u001b[39m \u001b[38;5;28mself\u001b[39m\u001b[38;5;241m.\u001b[39mgateway_client\u001b[38;5;241m.\u001b[39msend_command(command)\n\u001b[0;32m-> 1321\u001b[0m return_value \u001b[38;5;241m=\u001b[39m \u001b[43mget_return_value\u001b[49m\u001b[43m(\u001b[49m\n\u001b[1;32m   1322\u001b[0m \u001b[43m    \u001b[49m\u001b[43manswer\u001b[49m\u001b[43m,\u001b[49m\u001b[43m \u001b[49m\u001b[38;5;28;43mself\u001b[39;49m\u001b[38;5;241;43m.\u001b[39;49m\u001b[43mgateway_client\u001b[49m\u001b[43m,\u001b[49m\u001b[43m \u001b[49m\u001b[38;5;28;43mself\u001b[39;49m\u001b[38;5;241;43m.\u001b[39;49m\u001b[43mtarget_id\u001b[49m\u001b[43m,\u001b[49m\u001b[43m \u001b[49m\u001b[38;5;28;43mself\u001b[39;49m\u001b[38;5;241;43m.\u001b[39;49m\u001b[43mname\u001b[49m\u001b[43m)\u001b[49m\n\u001b[1;32m   1324\u001b[0m \u001b[38;5;28;01mfor\u001b[39;00m temp_arg \u001b[38;5;129;01min\u001b[39;00m temp_args:\n\u001b[1;32m   1325\u001b[0m     temp_arg\u001b[38;5;241m.\u001b[39m_detach()\n",
      "File \u001b[0;32m~/.local/lib/python3.10/site-packages/pyspark/sql/utils.py:111\u001b[0m, in \u001b[0;36mcapture_sql_exception.<locals>.deco\u001b[0;34m(*a, **kw)\u001b[0m\n\u001b[1;32m    109\u001b[0m \u001b[38;5;28;01mdef\u001b[39;00m \u001b[38;5;21mdeco\u001b[39m(\u001b[38;5;241m*\u001b[39ma, \u001b[38;5;241m*\u001b[39m\u001b[38;5;241m*\u001b[39mkw):\n\u001b[1;32m    110\u001b[0m     \u001b[38;5;28;01mtry\u001b[39;00m:\n\u001b[0;32m--> 111\u001b[0m         \u001b[38;5;28;01mreturn\u001b[39;00m \u001b[43mf\u001b[49m\u001b[43m(\u001b[49m\u001b[38;5;241;43m*\u001b[39;49m\u001b[43ma\u001b[49m\u001b[43m,\u001b[49m\u001b[43m \u001b[49m\u001b[38;5;241;43m*\u001b[39;49m\u001b[38;5;241;43m*\u001b[39;49m\u001b[43mkw\u001b[49m\u001b[43m)\u001b[49m\n\u001b[1;32m    112\u001b[0m     \u001b[38;5;28;01mexcept\u001b[39;00m py4j\u001b[38;5;241m.\u001b[39mprotocol\u001b[38;5;241m.\u001b[39mPy4JJavaError \u001b[38;5;28;01mas\u001b[39;00m e:\n\u001b[1;32m    113\u001b[0m         converted \u001b[38;5;241m=\u001b[39m convert_exception(e\u001b[38;5;241m.\u001b[39mjava_exception)\n",
      "File \u001b[0;32m~/.local/lib/python3.10/site-packages/py4j/protocol.py:326\u001b[0m, in \u001b[0;36mget_return_value\u001b[0;34m(answer, gateway_client, target_id, name)\u001b[0m\n\u001b[1;32m    324\u001b[0m value \u001b[38;5;241m=\u001b[39m OUTPUT_CONVERTER[\u001b[38;5;28mtype\u001b[39m](answer[\u001b[38;5;241m2\u001b[39m:], gateway_client)\n\u001b[1;32m    325\u001b[0m \u001b[38;5;28;01mif\u001b[39;00m answer[\u001b[38;5;241m1\u001b[39m] \u001b[38;5;241m==\u001b[39m REFERENCE_TYPE:\n\u001b[0;32m--> 326\u001b[0m     \u001b[38;5;28;01mraise\u001b[39;00m Py4JJavaError(\n\u001b[1;32m    327\u001b[0m         \u001b[38;5;124m\"\u001b[39m\u001b[38;5;124mAn error occurred while calling \u001b[39m\u001b[38;5;132;01m{0}\u001b[39;00m\u001b[38;5;132;01m{1}\u001b[39;00m\u001b[38;5;132;01m{2}\u001b[39;00m\u001b[38;5;124m.\u001b[39m\u001b[38;5;130;01m\\n\u001b[39;00m\u001b[38;5;124m\"\u001b[39m\u001b[38;5;241m.\u001b[39m\n\u001b[1;32m    328\u001b[0m         \u001b[38;5;28mformat\u001b[39m(target_id, \u001b[38;5;124m\"\u001b[39m\u001b[38;5;124m.\u001b[39m\u001b[38;5;124m\"\u001b[39m, name), value)\n\u001b[1;32m    329\u001b[0m \u001b[38;5;28;01melse\u001b[39;00m:\n\u001b[1;32m    330\u001b[0m     \u001b[38;5;28;01mraise\u001b[39;00m Py4JError(\n\u001b[1;32m    331\u001b[0m         \u001b[38;5;124m\"\u001b[39m\u001b[38;5;124mAn error occurred while calling \u001b[39m\u001b[38;5;132;01m{0}\u001b[39;00m\u001b[38;5;132;01m{1}\u001b[39;00m\u001b[38;5;132;01m{2}\u001b[39;00m\u001b[38;5;124m. Trace:\u001b[39m\u001b[38;5;130;01m\\n\u001b[39;00m\u001b[38;5;132;01m{3}\u001b[39;00m\u001b[38;5;130;01m\\n\u001b[39;00m\u001b[38;5;124m\"\u001b[39m\u001b[38;5;241m.\u001b[39m\n\u001b[1;32m    332\u001b[0m         \u001b[38;5;28mformat\u001b[39m(target_id, \u001b[38;5;124m\"\u001b[39m\u001b[38;5;124m.\u001b[39m\u001b[38;5;124m\"\u001b[39m, name, value))\n",
      "\u001b[0;31mPy4JJavaError\u001b[0m: An error occurred while calling o451.collectToPython.\n: org.apache.spark.SparkException: Job aborted due to stage failure: Task 0 in stage 70.0 failed 1 times, most recent failure: Lost task 0.0 in stage 70.0 (TID 58) (ip-172-31-55-62.ec2.internal executor driver): org.apache.spark.SparkException: Failed to execute user defined function (VectorAssembler$$Lambda$3415/0x000000084135e840: (struct<ph:double,Hardness:double,Solids:double>) => struct<type:tinyint,size:int,indices:array<int>,values:array<double>>)\n\tat org.apache.spark.sql.errors.QueryExecutionErrors$.failedExecuteUserDefinedFunctionError(QueryExecutionErrors.scala:136)\n\tat org.apache.spark.sql.errors.QueryExecutionErrors.failedExecuteUserDefinedFunctionError(QueryExecutionErrors.scala)\n\tat org.apache.spark.sql.catalyst.expressions.GeneratedClass$GeneratedIteratorForCodegenStage1.processNext(Unknown Source)\n\tat org.apache.spark.sql.execution.BufferedRowIterator.hasNext(BufferedRowIterator.java:43)\n\tat org.apache.spark.sql.execution.WholeStageCodegenExec$$anon$1.hasNext(WholeStageCodegenExec.scala:759)\n\tat org.apache.spark.sql.execution.SparkPlan.$anonfun$getByteArrayRdd$1(SparkPlan.scala:349)\n\tat org.apache.spark.rdd.RDD.$anonfun$mapPartitionsInternal$2(RDD.scala:898)\n\tat org.apache.spark.rdd.RDD.$anonfun$mapPartitionsInternal$2$adapted(RDD.scala:898)\n\tat org.apache.spark.rdd.MapPartitionsRDD.compute(MapPartitionsRDD.scala:52)\n\tat org.apache.spark.rdd.RDD.computeOrReadCheckpoint(RDD.scala:373)\n\tat org.apache.spark.rdd.RDD.iterator(RDD.scala:337)\n\tat org.apache.spark.scheduler.ResultTask.runTask(ResultTask.scala:90)\n\tat org.apache.spark.scheduler.Task.run(Task.scala:131)\n\tat org.apache.spark.executor.Executor$TaskRunner.$anonfun$run$3(Executor.scala:506)\n\tat org.apache.spark.util.Utils$.tryWithSafeFinally(Utils.scala:1462)\n\tat org.apache.spark.executor.Executor$TaskRunner.run(Executor.scala:509)\n\tat java.base/java.util.concurrent.ThreadPoolExecutor.runWorker(ThreadPoolExecutor.java:1128)\n\tat java.base/java.util.concurrent.ThreadPoolExecutor$Worker.run(ThreadPoolExecutor.java:628)\n\tat java.base/java.lang.Thread.run(Thread.java:829)\nCaused by: org.apache.spark.SparkException: Encountered null while assembling a row with handleInvalid = \"error\". Consider\nremoving nulls from dataset or using handleInvalid = \"keep\" or \"skip\".\n\tat org.apache.spark.ml.feature.VectorAssembler$.$anonfun$assemble$1(VectorAssembler.scala:291)\n\tat org.apache.spark.ml.feature.VectorAssembler$.$anonfun$assemble$1$adapted(VectorAssembler.scala:260)\n\tat scala.collection.IndexedSeqOptimized.foreach(IndexedSeqOptimized.scala:36)\n\tat scala.collection.IndexedSeqOptimized.foreach$(IndexedSeqOptimized.scala:33)\n\tat scala.collection.mutable.WrappedArray.foreach(WrappedArray.scala:38)\n\tat org.apache.spark.ml.feature.VectorAssembler$.assemble(VectorAssembler.scala:260)\n\tat org.apache.spark.ml.feature.VectorAssembler.$anonfun$transform$6(VectorAssembler.scala:143)\n\t... 17 more\n\nDriver stacktrace:\n\tat org.apache.spark.scheduler.DAGScheduler.failJobAndIndependentStages(DAGScheduler.scala:2454)\n\tat org.apache.spark.scheduler.DAGScheduler.$anonfun$abortStage$2(DAGScheduler.scala:2403)\n\tat org.apache.spark.scheduler.DAGScheduler.$anonfun$abortStage$2$adapted(DAGScheduler.scala:2402)\n\tat scala.collection.mutable.ResizableArray.foreach(ResizableArray.scala:62)\n\tat scala.collection.mutable.ResizableArray.foreach$(ResizableArray.scala:55)\n\tat scala.collection.mutable.ArrayBuffer.foreach(ArrayBuffer.scala:49)\n\tat org.apache.spark.scheduler.DAGScheduler.abortStage(DAGScheduler.scala:2402)\n\tat org.apache.spark.scheduler.DAGScheduler.$anonfun$handleTaskSetFailed$1(DAGScheduler.scala:1160)\n\tat org.apache.spark.scheduler.DAGScheduler.$anonfun$handleTaskSetFailed$1$adapted(DAGScheduler.scala:1160)\n\tat scala.Option.foreach(Option.scala:407)\n\tat org.apache.spark.scheduler.DAGScheduler.handleTaskSetFailed(DAGScheduler.scala:1160)\n\tat org.apache.spark.scheduler.DAGSchedulerEventProcessLoop.doOnReceive(DAGScheduler.scala:2642)\n\tat org.apache.spark.scheduler.DAGSchedulerEventProcessLoop.onReceive(DAGScheduler.scala:2584)\n\tat org.apache.spark.scheduler.DAGSchedulerEventProcessLoop.onReceive(DAGScheduler.scala:2573)\n\tat org.apache.spark.util.EventLoop$$anon$1.run(EventLoop.scala:49)\n\tat org.apache.spark.scheduler.DAGScheduler.runJob(DAGScheduler.scala:938)\n\tat org.apache.spark.SparkContext.runJob(SparkContext.scala:2214)\n\tat org.apache.spark.SparkContext.runJob(SparkContext.scala:2235)\n\tat org.apache.spark.SparkContext.runJob(SparkContext.scala:2254)\n\tat org.apache.spark.sql.execution.SparkPlan.executeTake(SparkPlan.scala:476)\n\tat org.apache.spark.sql.execution.SparkPlan.executeTake(SparkPlan.scala:429)\n\tat org.apache.spark.sql.execution.CollectLimitExec.executeCollect(limit.scala:48)\n\tat org.apache.spark.sql.Dataset.$anonfun$collectToPython$1(Dataset.scala:3538)\n\tat org.apache.spark.sql.Dataset.$anonfun$withAction$1(Dataset.scala:3706)\n\tat org.apache.spark.sql.execution.SQLExecution$.$anonfun$withNewExecutionId$5(SQLExecution.scala:103)\n\tat org.apache.spark.sql.execution.SQLExecution$.withSQLConfPropagated(SQLExecution.scala:163)\n\tat org.apache.spark.sql.execution.SQLExecution$.$anonfun$withNewExecutionId$1(SQLExecution.scala:90)\n\tat org.apache.spark.sql.SparkSession.withActive(SparkSession.scala:775)\n\tat org.apache.spark.sql.execution.SQLExecution$.withNewExecutionId(SQLExecution.scala:64)\n\tat org.apache.spark.sql.Dataset.withAction(Dataset.scala:3704)\n\tat org.apache.spark.sql.Dataset.collectToPython(Dataset.scala:3535)\n\tat java.base/jdk.internal.reflect.NativeMethodAccessorImpl.invoke0(Native Method)\n\tat java.base/jdk.internal.reflect.NativeMethodAccessorImpl.invoke(NativeMethodAccessorImpl.java:62)\n\tat java.base/jdk.internal.reflect.DelegatingMethodAccessorImpl.invoke(DelegatingMethodAccessorImpl.java:43)\n\tat java.base/java.lang.reflect.Method.invoke(Method.java:566)\n\tat py4j.reflection.MethodInvoker.invoke(MethodInvoker.java:244)\n\tat py4j.reflection.ReflectionEngine.invoke(ReflectionEngine.java:357)\n\tat py4j.Gateway.invoke(Gateway.java:282)\n\tat py4j.commands.AbstractCommand.invokeMethod(AbstractCommand.java:132)\n\tat py4j.commands.CallCommand.execute(CallCommand.java:79)\n\tat py4j.ClientServerConnection.waitForCommands(ClientServerConnection.java:182)\n\tat py4j.ClientServerConnection.run(ClientServerConnection.java:106)\n\tat java.base/java.lang.Thread.run(Thread.java:829)\nCaused by: org.apache.spark.SparkException: Failed to execute user defined function (VectorAssembler$$Lambda$3415/0x000000084135e840: (struct<ph:double,Hardness:double,Solids:double>) => struct<type:tinyint,size:int,indices:array<int>,values:array<double>>)\n\tat org.apache.spark.sql.errors.QueryExecutionErrors$.failedExecuteUserDefinedFunctionError(QueryExecutionErrors.scala:136)\n\tat org.apache.spark.sql.errors.QueryExecutionErrors.failedExecuteUserDefinedFunctionError(QueryExecutionErrors.scala)\n\tat org.apache.spark.sql.catalyst.expressions.GeneratedClass$GeneratedIteratorForCodegenStage1.processNext(Unknown Source)\n\tat org.apache.spark.sql.execution.BufferedRowIterator.hasNext(BufferedRowIterator.java:43)\n\tat org.apache.spark.sql.execution.WholeStageCodegenExec$$anon$1.hasNext(WholeStageCodegenExec.scala:759)\n\tat org.apache.spark.sql.execution.SparkPlan.$anonfun$getByteArrayRdd$1(SparkPlan.scala:349)\n\tat org.apache.spark.rdd.RDD.$anonfun$mapPartitionsInternal$2(RDD.scala:898)\n\tat org.apache.spark.rdd.RDD.$anonfun$mapPartitionsInternal$2$adapted(RDD.scala:898)\n\tat org.apache.spark.rdd.MapPartitionsRDD.compute(MapPartitionsRDD.scala:52)\n\tat org.apache.spark.rdd.RDD.computeOrReadCheckpoint(RDD.scala:373)\n\tat org.apache.spark.rdd.RDD.iterator(RDD.scala:337)\n\tat org.apache.spark.scheduler.ResultTask.runTask(ResultTask.scala:90)\n\tat org.apache.spark.scheduler.Task.run(Task.scala:131)\n\tat org.apache.spark.executor.Executor$TaskRunner.$anonfun$run$3(Executor.scala:506)\n\tat org.apache.spark.util.Utils$.tryWithSafeFinally(Utils.scala:1462)\n\tat org.apache.spark.executor.Executor$TaskRunner.run(Executor.scala:509)\n\tat java.base/java.util.concurrent.ThreadPoolExecutor.runWorker(ThreadPoolExecutor.java:1128)\n\tat java.base/java.util.concurrent.ThreadPoolExecutor$Worker.run(ThreadPoolExecutor.java:628)\n\t... 1 more\nCaused by: org.apache.spark.SparkException: Encountered null while assembling a row with handleInvalid = \"error\". Consider\nremoving nulls from dataset or using handleInvalid = \"keep\" or \"skip\".\n\tat org.apache.spark.ml.feature.VectorAssembler$.$anonfun$assemble$1(VectorAssembler.scala:291)\n\tat org.apache.spark.ml.feature.VectorAssembler$.$anonfun$assemble$1$adapted(VectorAssembler.scala:260)\n\tat scala.collection.IndexedSeqOptimized.foreach(IndexedSeqOptimized.scala:36)\n\tat scala.collection.IndexedSeqOptimized.foreach$(IndexedSeqOptimized.scala:33)\n\tat scala.collection.mutable.WrappedArray.foreach(WrappedArray.scala:38)\n\tat org.apache.spark.ml.feature.VectorAssembler$.assemble(VectorAssembler.scala:260)\n\tat org.apache.spark.ml.feature.VectorAssembler.$anonfun$transform$6(VectorAssembler.scala:143)\n\t... 17 more\n"
     ]
    }
   ],
   "source": [
    "# Using print schema, you see that the features output column has been added. \n",
    "output.printSchema()\n",
    "\n",
    "# You can see that the features column is a dense vector that combines the various features as expected.\n",
    "output.head(1)\n"
   ]
  },
  {
   "cell_type": "code",
   "execution_count": 66,
   "id": "cc8f281e",
   "metadata": {},
   "outputs": [
    {
     "ename": "NameError",
     "evalue": "name 'final_data' is not defined",
     "output_type": "error",
     "traceback": [
      "\u001b[0;31m---------------------------------------------------------------------------\u001b[0m",
      "\u001b[0;31mNameError\u001b[0m                                 Traceback (most recent call last)",
      "Input \u001b[0;32mIn [66]\u001b[0m, in \u001b[0;36m<cell line: 3>\u001b[0;34m()\u001b[0m\n\u001b[1;32m      1\u001b[0m \u001b[38;5;66;03m# Let's do a randomised 70/30 split. \u001b[39;00m\n\u001b[1;32m      2\u001b[0m \u001b[38;5;66;03m# Remember, you can use other splits depending on how easy/difficult it is to train your model.\u001b[39;00m\n\u001b[0;32m----> 3\u001b[0m train_data,test_data \u001b[38;5;241m=\u001b[39m \u001b[43mfinal_data\u001b[49m\u001b[38;5;241m.\u001b[39mrandomSplit([\u001b[38;5;241m0.7\u001b[39m,\u001b[38;5;241m0.3\u001b[39m])\n",
      "\u001b[0;31mNameError\u001b[0m: name 'final_data' is not defined"
     ]
    }
   ],
   "source": [
    "# Let's do a randomised 70/30 split. \n",
    "# Remember, you can use other splits depending on how easy/difficult it is to train your model.\n",
    "train_data,test_data = final_data.randomSplit([0.7,0.3])"
   ]
  },
  {
   "cell_type": "code",
   "execution_count": null,
   "id": "f9ad922a",
   "metadata": {},
   "outputs": [],
   "source": []
  }
 ],
 "metadata": {
  "kernelspec": {
   "display_name": "Python 3 (ipykernel)",
   "language": "python",
   "name": "python3"
  },
  "language_info": {
   "codemirror_mode": {
    "name": "ipython",
    "version": 3
   },
   "file_extension": ".py",
   "mimetype": "text/x-python",
   "name": "python",
   "nbconvert_exporter": "python",
   "pygments_lexer": "ipython3",
   "version": "3.10.4"
  }
 },
 "nbformat": 4,
 "nbformat_minor": 5
}
